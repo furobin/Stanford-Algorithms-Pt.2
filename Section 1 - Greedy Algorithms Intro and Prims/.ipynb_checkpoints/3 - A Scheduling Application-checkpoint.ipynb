{
 "cells": [
  {
   "cell_type": "markdown",
   "metadata": {},
   "source": [
    "Setup - One shared resource (e.g. computer processor)\n",
    " - Many jobs to do e.g. processes)\n",
    " \n",
    "Question: In what order should we sequence the jobs?\n",
    "\n",
    "Assume: eacj job j has a:\n",
    " - weight wj (\"priority\"), higher weight should be processes earlier\n",
    " - length lj, how long the job will take. Assume all lj known, non-negative\n",
    " \n",
    "Input sequence of jobs, output a sequence of jobs at which should be done"
   ]
  },
  {
   "cell_type": "markdown",
   "metadata": {},
   "source": [
    "Completion Times: Completion time Cj of job j = sum of jobs (lengths up to and including j); sum of lengths of jobs before it + length of job itself.\n",
    " - Cj = Cj-1 + lj; j > 1\n",
    "\n",
    "Objective Function: Minimize the weighted sum of completion times:\n",
    " - Min sum(wj * Cj); only one example obj function, can have many more. \n"
   ]
  },
  {
   "cell_type": "markdown",
   "metadata": {},
   "source": [
    "## Greedy Algorithm"
   ]
  },
  {
   "cell_type": "markdown",
   "metadata": {},
   "source": [
    "Process:\n",
    " - Look at special ases where intuitively easy to see what is optimal\n",
    " - Use these intuitions ot motivate couple of natural greedy algos\n",
    " - Narrow down from there\n",
    " \n",
    "Recall: Want to min sum(Wj * Cj) with a correct greedy algorithm."
   ]
  },
  {
   "cell_type": "markdown",
   "metadata": {},
   "source": [
    "2 Special Cases:\n",
    " - Each job has exact same length but with different weights; want larger weights in the beginning\n",
    "     - Gets highest weights with smallest completion times\n",
    " - Each job has exact same weight but with different lengths; want shorter weights in the beginning\n",
    "     - Scheduling a job in a position forces all others to wait for that one to complete. So, large one in beginning has negative impact on all n-1 jobs in sequence. \n",
    "     \n",
    "Resolving Conflicting Advice:\n",
    " - Question: What if Wi > Wj but Li > Lj?\n",
    " \n",
    "Idea: assign scores to jobs based on w and l. Sort via score in decreasing order\n",
    " - Increasing in weight (should go earlier)\n",
    " - Deceasing in Length (should go earlier)\n",
    " - Think of function that has these properties. For example:\n",
    "     - Difference of two numbers: Wj - Lj\n",
    "     - Ratio of two numbers: Wj/Lj\n",
    " - Allow ties for scores to be broken arbitrarily. Only one at most can be always correct (bc they do two different things). Try to rule out one by showing an example where it doesn't do the right thing. \n",
    " \n",
    "Try with 2 jobs:\n",
    " - Job 1: L1 = 5, W1 = 3\n",
    " - Job 2: L2 = 2, W2 = 1\n",
    " - Using difference:\n",
    "     - Score 1 = -2; Score 2 = -11. Runs 2 then 1. 2 + 21 = 23\n",
    " - Using Ratio:\n",
    "     - Score 1 = 3/5, Score 1/2. Runs 1, then 2. 15 + 7 = 22\n",
    "     \n",
    "So Far:\n",
    " - Algorithm that orders by difference is not always correct. Still, Algo 2 may not be always correct from what we see.\n",
    " \n",
    "Claim: Alg 2 is always correct (not obvious). \n",
    "\n",
    "Note: Algorithm Running Time: Compute scores and then 1 sorting omputation. N + NlogN = O(NlogN)"
   ]
  },
  {
   "cell_type": "markdown",
   "metadata": {},
   "source": [
    "### Correctness Proof"
   ]
  },
  {
   "cell_type": "markdown",
   "metadata": {},
   "source": [
    "Claim: Algorithm 2 is always correct (order jobs according to decreasing wj/lj ratios)\n",
    "\n",
    "Proof: By an exchange argument\n",
    "\n",
    "Plan: Fix arbitrary number of input n jobs, proceed via contradiction. Start with assuming the claim is false, then derive something that is obviously fase and inconsistent\n",
    " - sigma = greedy schedule; if claim false, this is not optimal\n",
    " - sigma* = optimal schedule\n",
    " - Will produce schedule even better than sigma*, contradicting purported optimality of sigma*; will complete proof via contradiction"
   ]
  },
  {
   "cell_type": "markdown",
   "metadata": {},
   "source": [
    "Assume: no ties amongst the ratios i.e. all wj/lj distinct\n",
    " - Just by renaming jobs, ratio1 > ratio2 > ratio3... ration\n",
    " - Thus: Greedy Schedule sigma is just 1, 2, 3, 4...n.\n",
    " - Thus: if optimal solution sigma*  != sigma. Then there are consecutive jobs i, j with i > j. i is earlier. 2 jobs executed in a row where i is higher than j. For example, 1,2,4,3...n. \n",
    "     - Only schedule where indices always go up is 1,2,3,...n. \n",
    "\n",
    "Thought Experiment: suppose we  exchange order of i, j in sigma* leaving other jobs unchanged:\n",
    " - Jobs other than i and j are unaffected; Ci goes up, Cj goes down. \n",
    "     - This bc j goes before i now, so Cj lower (dec by length of job i). I now pushed back, so Ci higher (inrease by time of j)\n",
    "     - For jobs before i,j, obv unchanged. Post i,j, still wait for both to complete so exact same completion times. \n",
    "     - Remember, Competion times only affeted by length, not weight. \n",
    " - So, Ci inc, Cj decrease. Cost of exchange = Wi * Lj. Benefit of Exchange = Wj * Li.\n",
    "     - Note, i > j so Wi/Li < Wj/Lj. So, Wi * Lj < Wj * Li. Thus, Cost < Benefit. \n",
    " - Swap improves sigma* , contradicts optimality of sigma* . QED. "
   ]
  },
  {
   "cell_type": "markdown",
   "metadata": {},
   "source": [
    "### Handling Ties"
   ]
  },
  {
   "cell_type": "markdown",
   "metadata": {},
   "source": [
    "New Proof Plan:\n",
    " - Fix aritrary input of n jobs, let sigma = greedy schedule, sigma* = any other schedule\n",
    " - Will show sigma at least as good as sigma* -> implies that greedy schedule is optimal\n",
    " \n",
    "Assume:\n",
    " - (Via renaming) greedy schedule is 1, 2, 3, ...n. If i > j, Wi/Li <= Wj/Lj, WiLj <= WjLi \n",
    " \n",
    "Consider arbitrary schedule sigma* . If sigma* = sigma, no worriesl. Else, recall that there exists consecutive jobs i, j in sigma* with i > j. \n",
    "\n",
    "Recall: Exchanging i and j in sigma* has net benefit of WjLi - WiLj >= 0.\n",
    "\n",
    "Upshot: Exchanging an \"adjaccent inversion\" like i, j only makes sigma* better and decreases the number of inverted pairs (jobs i,j where i > j and i schedule earlier). \n",
    " - If repeat this process for all adjacent inversions, will make sigma* better or at least no worse while making it coming closer to sigma\n",
    " - Once no more adjacent inversions, becomes exactly equal to sigma. \n",
    " - At most nChoose2 such exchanges (ordered n, n-1, ...1). Sigma at least >= sigma * so sigma is optimal. "
   ]
  }
 ],
 "metadata": {
  "kernelspec": {
   "display_name": "Python 3",
   "language": "python",
   "name": "python3"
  },
  "language_info": {
   "codemirror_mode": {
    "name": "ipython",
    "version": 3
   },
   "file_extension": ".py",
   "mimetype": "text/x-python",
   "name": "python",
   "nbconvert_exporter": "python",
   "pygments_lexer": "ipython3",
   "version": "3.7.6"
  }
 },
 "nbformat": 4,
 "nbformat_minor": 4
}
