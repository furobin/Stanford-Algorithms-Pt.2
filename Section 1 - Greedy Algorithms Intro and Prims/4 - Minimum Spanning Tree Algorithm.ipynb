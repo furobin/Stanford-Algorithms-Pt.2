{
 "cells": [
  {
   "cell_type": "markdown",
   "metadata": {},
   "source": [
    "Informal Goal: Connect a bunch of points together as cheaply as possible.\n",
    " - EX: connecting servies in netowrk or something more abstract\n",
    " - Applications: Clustering (more later)\n",
    "     - Networking\n",
    " - Very Fast Greedy Algorithms\n",
    "     - Prim's Algorithm (1957, similar to Dijkstra's), aka Jarnick's (discovered 25 years prior); Use Heaps\n",
    "     - Kruskal's Algorithm (1956); Union Fine data structure\n",
    "     - O(mlogn); m = edges, n = vertices w/proper data structures"
   ]
  },
  {
   "cell_type": "markdown",
   "metadata": {},
   "source": [
    "Minimum Spanning Tree (MST) Problem:\n",
    " - Input: Undicred Graph G = (V,E); (optimal branching is for directed graphs)\n",
    "     - Assume graph rep as adjacency list\n",
    "     - Cost Ce for each edge e; OK if costs are negative\n",
    " - Output: Minimum Cost Tree that spans all vertices.\n",
    "     - Cost of tree i.e. sum of edge costs. \n",
    "     - Spans all vertices means no cycles; subgraph (V,T) is connected i.e. path between each pair of vertices. From v, can get to any other vertex u in V. \n",
    "     \n",
    "Assumptions (mostly just to make things easier, nothing too critical):\n",
    " - Input graph G is connected (can run DFS or BFS to preprocess and check)\n",
    "    - Else no spanning trees; can be modified to find MSTs for each connected component if G not completely connected (Minimum Spanning Forest)\n",
    " - Edge costs are distinct:\n",
    "     - Prim and Kruskals remain correct with ties (which can be broken arbitrarily)\n",
    "     - Correctness proof a bit more annoying if accounting for ties"
   ]
  },
  {
   "cell_type": "markdown",
   "metadata": {},
   "source": [
    "# Prim's Algorithm"
   ]
  },
  {
   "cell_type": "markdown",
   "metadata": {},
   "source": [
    "Grow tree one edge at a time, suck up new vertex with each iteration (similar to Dijkstra's). Pick arbitrary starting vertex. With each iteration, select cheapest edge to span an additional vertex. Does not look at edges that do not connect to any new vertices. "
   ]
  },
  {
   "cell_type": "markdown",
   "metadata": {},
   "source": [
    "PrimMST:\n",
    " - Initialize X = [s], s is starting vertex chosen arbitrarily\n",
    " - T = Null [empty tree; invariant: X = vertices spanned by tree-so-far T]\n",
    " - While X != V:\n",
    "     - Let e = (u,v) e the cheapest edge of G with u in X, v not in X. \n",
    "     - Add e to T\n",
    "     - Add v to X. These 3 steps are increasing # of spanned vertices"
   ]
  },
  {
   "cell_type": "markdown",
   "metadata": {},
   "source": [
    "Theorem: Prim's algorithm always computes an MST:\n",
    " - Part 1: Computes a spanning tree T*\n",
    "     - Will use basic properties of graphs and spanning trees\n",
    " - Part 2: T* is an MST, uses the \"Cut Property\""
   ]
  },
  {
   "cell_type": "markdown",
   "metadata": {},
   "source": [
    "## Correctness:"
   ]
  },
  {
   "cell_type": "markdown",
   "metadata": {},
   "source": [
    "Claim - Prim's algorithm outputs a spanning tree\n",
    "\n",
    "Definition - a cut of a graph G = (V, E) is a partition of V into two non-empty sets A and B. Crossing edges go between A and B.\n",
    " - A graph with n vertices can have roughly 2^n cuts. For example, one vertex can be in either A or B, 2 options per vertex. 2^n - 1 cuts tbh bc A or B cannot be empty. \n",
    " \n",
    "Empty-Cut Lemma - a graph is not connected iff there exists cutt (A,B) with no crossing edges. \n",
    " - 2 part proof: Assuming 1st statement, then can prove second. Then, assuming 2nd, can prove first. Bc is iff statement.\n",
    " - Assume the 1st statement. Pick ny u in A and v in B. \n",
    "     - Since no edges cross A and B, there is no u to v path in G. Thus, G is not connectd. \n",
    " - Assume the 2nd statement. Suppose G has no u to v path. \n",
    "     - Define A = vertices reachable from A. u is in A by definition. A is u's connected component basically.\n",
    "     - B = all other vertices (i.e. all other connected components). v in B. \n",
    "     - Note, no crossing edges at (A,B). If there did exist path A to B, bc u can reach everything in A, u would be able to reach whatever reached from that path. That's a contradiction. So, must be true. \n",
    " - So, graph is disconnected iff above; connected iff A B have crossing edges. \n",
    " \n",
    "Double-Crossing Lemma - Suppose the there exists a cycle C in E. E has an edge crossing the cut A,B. Then, so does some other edge of C. \n",
    " - Fairly obvious. If there is an edge that connects points u, v in A, B. Since on cycle, must cross the cuts an even number of times. Remember, cycle starts and ends at same point. \n",
    " - Lonely Cut Corollary: if e is the only edge crossing some cut (A,B), then it is not in any cycle. Remember, spanning tree can't have cycle. \n",
    "     - If it were in a ycle, some ether edge must cross the cuts. \n",
    "     \n",
    "Proof of Original Claim:\n",
    " - Algorithm maintains invariant that T spans X (straightforward induction)\n",
    " - Cannot get stuck with X != V i.e. spans all vertices (so T spans all V). \n",
    "     - With the while loop, will not end as long as X != V. Only thing that can go wrong is if no edges on frontier of X connecting to V.\n",
    "     - If that were the case, the cut (X, V-X) must be empty i.e. no crossing edges. Then, via empty cut lemme, input graph G is disconnected\n",
    " - No cycles ever get created in T. Why? Consider any iteration with current sets X and T. Suppose e gets added:\n",
    "     - e is the first edge crossing (X, V-X) that gets added to T. No edges thus far cross X, V-X. \n",
    "     - e must be an edge that crosses the cuts (by def in algorithm). So, when e added to T, will be lonely. By Lonely Cut Corollary, cannot possibly be in a cycle. \n",
    " - Thus, a spanning tree is outputted."
   ]
  },
  {
   "cell_type": "markdown",
   "metadata": {},
   "source": [
    "Claim: Prim's algorithm always outputs a minimum-cost spanning tree.\n",
    "\n",
    "Key Question: How can we be sure that, when an edge is added, it will be a minimum? That is, when is it \"safe\" to include an edge in T?\n",
    "\n",
    "The Cut Property - Consider an edge e of G. Suppose there is a cut A, B such that e is the cheapest edge of G that crosses it.\n",
    " - Then, e belongs to the MST of G. Assume it is true but will be proved later. \n",
    "     - Note can have multiple MSTs if not distinct edge costs. If not distinct, must slightly modify this. \n",
    " - Just look for any cut to confirm an edge. \n",
    " \n",
    "Proof:\n",
    " - By previous part, we know that Prim's algorithm outputs a spanning tree T*\n",
    " - In Prim's, looks at two cuts X and V-X. Adds the cheapest edge that spans the cuts at each iteration\n",
    "     - Via Cut Property, knows that these will all be edges contained in the MSTs. \n",
    "     - So, every edge picked by Prim's must belong to the MST.\n",
    " - Thus, everything in T* is an edge that belongs to the MST.\n",
    " - Since T* is already a spanning tree, it must be the MST. "
   ]
  },
  {
   "cell_type": "markdown",
   "metadata": {},
   "source": [
    "### Proof of Cut Property"
   ]
  },
  {
   "cell_type": "markdown",
   "metadata": {},
   "source": [
    "Will argue by contradiction using an exchange argument.\n",
    "\n",
    "Suppose there is an edge e that is the cheapest one crossing a cut A, B, yet e is not in the MST T* . Idea is to exchange e with another edge in T* to make it even cheaper (contradiction). \n",
    " - Note, since T* is connected, must contain an edge f that crosses A, B. f is more expensive than e. \n",
    " - Is T* U {e} - {f} (i.e. swapping out f for e) a spanning tree of G? Maybe not though, depending on the choice of e and f.\n",
    "     - e may create a cycle or isolate a vertex. \n",
    "     - Consider e`, another edge of T* that is crossing. If choose this, can maintain spanning tree\n",
    "     - Hope: can always find this suitable e` that yields bona fide spanning tree of G\n",
    " - Let C = cycle created by adding e to T*. Must exist e` that creates cycle via Double-Crossing Lemma. \n",
    "     - T = T* U {e} - {e`} is also a spanning tree. So, execute swap with e`.\n",
    "     - Bc they on cycle, this swap does not destry connectivity between any pair of vertices. Still exists one path. \n",
    "     - Thus, final proof. T differs from T* only in the swap of these two edges, and via swap decreased the cost. So, completes proof of cut property.\n",
    " - Honestly, idrgi."
   ]
  },
  {
   "cell_type": "markdown",
   "metadata": {},
   "source": [
    "## Fast Implementation and Running Time"
   ]
  },
  {
   "cell_type": "markdown",
   "metadata": {},
   "source": [
    "**Running Time**\n",
    "\n",
    "PrimMST:\n",
    " - Initialize X = [s], s is starting vertex chosen arbitrarily\n",
    " - T = Null [empty tree; invariant: X = vertices spanned by tree-so-far T]\n",
    " - While X != V:\n",
    "     - Let e = (u,v) e the cheapest edge of G with u in X, v not in X. \n",
    "     - Add e to T\n",
    "     - Add v to X. These 3 steps are increasing # of spanned vertices\n",
    "     \n",
    "If implementing as-is.\n",
    " - number of loop iterations is exacty n-1, so O(n) iterations.\n",
    " - Each iteration work:\n",
    "     - Brute force search through edges with 1 in X, 1 not in X. O(m) time. \n",
    "     - Total O(mn) time). Honestly not horrible bc can have 2^n-1 diff spanning trees or smthn like that. \n",
    "     \n",
    "Speed-Up Via Heaps:\n",
    " - Heaps speed up repeated minimum computations. Supports Extract-Min in O(logn). \n",
    " - Using Heaps to store edges, keys = edge costs. This will run O(mlogn) but not as good constants. Can show as exercise\n",
    "     - Would need extra checks bc may pull edges that are not crossing edges. \n",
    " - Using Heaps to store vertices, this is more practical\n",
    "     - Invariant 1: Elements in heap = vertices of V-X\n",
    "     - Invariant 2: For v in V-X, Key[v] = cheapest edge u,v with u in X. \n",
    "         - If there are no incident edges for some w in V-X, can just define key to be +inf.\n",
    " - Check can initialize heap with O(m + nlogn) = O(mlogn) preprocessing\n",
    "     - At start, X contains only s\n",
    "     - Key value for all other vertices is cost between s to other vertices or infinity if no crossing edges.\n",
    "     - Costs O(m) time to compute keys, O(nlogn) for n insertions. Can even to inserts in O(n) with heapify. \n",
    "     - Remember: m > n - 1 (so can replace n with m to get valid upper) and graph is connected bc otherwise not interesting\n",
    " - Note: Given invariants, Extract-Min yields next vertex and edge to add to X and T respectively. \n",
    "     - Run like 2-round knockout winner. For each vertex in v-X v, locally remembers what is best candidate i.e. cheapest edge incident on that vertex (basically key of each vertex). Extract-Min is 2nd round of elimination tournament. \n",
    " - Maintaining Invariant #2 biggest problem:\n",
    "     - May need to recompute some keys to maintain after Extract-Min\n",
    "     - Pseudocode: When v added to X:\n",
    "         - for each edge (v,w) in Edges:\n",
    "             - if w in V-X:\n",
    "                 - Delete w from heap\n",
    "                 - Recompute key[w] = min(key[w], (v,w)); can be previous key or new key from vw edge. \n",
    "                 - Insert into heap\n",
    "     - Need additional book-keeping for vertex at which position in heap bc deletion occurs at index\n",
    " - Runing Time with Heaps\n",
    "     - Dominated by time required for heap operations\n",
    "     - n-1 inserts during preprocessing\n",
    "     - n-1 Extract-Mins (one per iteration of while loop)\n",
    "     - Each edge (v,w) triggers one Delete/Insert combo (when its first endpoint is added to X)\n",
    "         - So,at most 2m\n",
    "     - So, O(m) heap operatiosn (m >= n-1).\n",
    "         - Each heap operations runs O(logn)\n",
    "         - So, total O(mlogn) time. "
   ]
  },
  {
   "cell_type": "markdown",
   "metadata": {},
   "source": []
  }
 ],
 "metadata": {
  "kernelspec": {
   "display_name": "Python 3",
   "language": "python",
   "name": "python3"
  },
  "language_info": {
   "codemirror_mode": {
    "name": "ipython",
    "version": 3
   },
   "file_extension": ".py",
   "mimetype": "text/x-python",
   "name": "python",
   "nbconvert_exporter": "python",
   "pygments_lexer": "ipython3",
   "version": "3.7.6"
  }
 },
 "nbformat": 4,
 "nbformat_minor": 4
}
