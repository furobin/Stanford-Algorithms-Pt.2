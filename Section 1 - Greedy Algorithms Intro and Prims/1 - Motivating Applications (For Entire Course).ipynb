{
 "cells": [
  {
   "cell_type": "markdown",
   "metadata": {},
   "source": [
    "# Distributed Shortest Path Routing"
   ]
  },
  {
   "cell_type": "markdown",
   "metadata": {},
   "source": [
    "## Graphs and the Internet"
   ]
  },
  {
   "cell_type": "markdown",
   "metadata": {},
   "source": [
    "Claim: The Internet is a graph.\n",
    " - Vertices = endhosts and routers (machines that generate, consume, and help traffic); Edges = direct physical or wireless connections\n",
    " - EX: Send email from Stanford address to Cornell:\n",
    "     - Stanford Gateway Router -> Cogent Gateway Router (commercial ISP) and so on or something\n",
    "\n",
    "Other Graphs Related to Internet:\n",
    " - Web Graph (V = web pages, edges = hyperlinks)\n",
    " - Social Networks (V = people, edges = relationships (friend, following, etc. ; can be undirected or directed)"
   ]
  },
  {
   "cell_type": "markdown",
   "metadata": {},
   "source": [
    "Internet Routing:\n",
    "\n",
    "Suppose: Stanford gateway router needs to send data to Cornell gateway router. Not sure wwht exact structure of routes between two looks like, but will not have direct physical link between two. Will have multiple stops, and have multiple unique routes.\n",
    "\n",
    "Question: Which Stanford -> Cornell route to use? Obvious idea is to think abt the shortest (multiple definitions). Let's go with fewest number of hops for now. \n",
    " - Need shortest path algorithm. Dijkstra's algo does this v fast, use heaps (in internet routing, p much all edges non-negative). \n",
    "     - Problem with Dijkstra's: Stanford gateway router would need to know entire Internet.\n",
    "     - Need shortest-path algorithm that uses only local computation; node could interact with its neighbors with the machines to which it is directly connected. \n",
    "     - Use the Bellman-Ford algorithm. Each vertex only communicates in rounds with other connected vertices, and handles negative edges. P much foundation for modern internet routing. "
   ]
  },
  {
   "cell_type": "markdown",
   "metadata": {},
   "source": [
    "# Sequence Alignment"
   ]
  },
  {
   "cell_type": "markdown",
   "metadata": {},
   "source": [
    "Sequence alignment - a fundamental problem in computational genomics.\n",
    "\n",
    "Input: Two strings over the alphabet (A, C, G, T); do not need to be same length. Portions of one or more genomes\n",
    "\n",
    "Problem: Figure out how \"similar\" the two strings are. \n",
    "\n",
    "Example Applications:\n",
    " - Extrapolate function of genome substrings; find out things abt genome you dont understand by comparing it to similar genome that you do understand. \n",
    " - Similar genomes can reflect proximmity in evolutionary tree. Evolutionary relationship"
   ]
  },
  {
   "cell_type": "markdown",
   "metadata": {},
   "source": [
    "What does similar mean?\n",
    " - 2 Examples: AGGGCT, AGGCA. Not the same, but may be more similar than they are different. Can be alligned\n",
    "     - AGGGCT\n",
    "     - AGG-CA; insert gap into second one, has one mismatch in the last\n",
    " - Intuition: the two are similar because they can be \"nicely aligned\"\n",
    " - Idea: Measure similarity via quality of \"best\" alignment. \n",
    "     - Assumption: Have experimentally determined penalties for gaps and possible matches i.e. know whether gaps or mismatch is worse for similarity\n",
    "     "
   ]
  },
  {
   "cell_type": "markdown",
   "metadata": {},
   "source": [
    "Input: 2 strings over ACGT\n",
    " - Penalty pen(gap) >= 0 for each gap (think of undoing some deletion in past)\n",
    " - Penalty pen(AT) >= 0 for mismatching A and T (think of mismatch as some mutation)\n",
    " - etc. penalties for other mismatches\n",
    " \n",
    "Output: Alignment of the strings that minimizes the total penalty (i.e. the Needleman-Wunsch Score)\n",
    " - Measure of similarity would be useless without an efficient algorithm to find the best alignment\n",
    " - Brute-Force: Try all possible alignments, remember the best score.\n",
    "     - Suppose each string has length 500 ( fairly standard), roughly how many possible alignments are there?\n",
    "         - num of people on earth? 10^9\n",
    "         - num of atoms in universe? 10^80\n",
    "         - In actuality, more than above. 2^500 at the very least\n",
    "     - So, never do this shit. Never compute alignments unless have fast algorithm. "
   ]
  }
 ],
 "metadata": {
  "kernelspec": {
   "display_name": "Python 3",
   "language": "python",
   "name": "python3"
  },
  "language_info": {
   "codemirror_mode": {
    "name": "ipython",
    "version": 3
   },
   "file_extension": ".py",
   "mimetype": "text/x-python",
   "name": "python",
   "nbconvert_exporter": "python",
   "pygments_lexer": "ipython3",
   "version": "3.7.6"
  }
 },
 "nbformat": 4,
 "nbformat_minor": 4
}
