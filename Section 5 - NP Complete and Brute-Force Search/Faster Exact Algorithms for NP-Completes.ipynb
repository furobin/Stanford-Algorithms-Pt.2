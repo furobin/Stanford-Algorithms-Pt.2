{
 "cells": [
  {
   "cell_type": "markdown",
   "metadata": {},
   "source": [
    "# The Vertex Cover Problem"
   ]
  },
  {
   "cell_type": "markdown",
   "metadata": {},
   "source": [
    "Input: An undirected graph G\n",
    "\n",
    "Goal: Produce a minimum-cardinality vertex cover - a subset S in V that  contains at least one endpoint for each edge of G. \n",
    " - Can think of vertices as ppl to recruit, edge as a task to complete. 2 People for an edge are people who can complete that task. Hire as few people to accomlish all tasks. \n",
    " - What is the minimum size of a vertex cover of a star graph with n vertices and of a clique with nvertices respectively?\n",
    "     - 1 and n - 1.\n",
    "     - A star graph has a center with edges connected all vertices to that center. Like spokes on a wheel without outer wheel\n",
    "     - Clique - Every n Choose 2 edge is present, all edges are adjacent to other.\n",
    "         - Consider set that excludes 2 vertices of a grpah. There is an edge between those two vertices, not a vertex cover\n",
    "         - If only excludes 1 vertex, cannot be an edge with both vertices missing from itself. So, n-1 sufficient. \n",
    " - But, for a general graph, this is an NP-Complete Problem\n",
    " \n",
    "Recall Strategies:\n",
    " - Identify tractable cases and produce subroutines\n",
    "     - Can brute force search all cases to be able to apply these subroutines to whenever find tractable cases\n",
    "     - Path graphs, trees, and graphs of bounded tree width. \n",
    "     - Tree polynomial time using dynamic programming (try it)\n",
    "     - Bipartite graph - graph with no odd cycle (trees special case); can partition vertex set into 2 groups so that every single ege has exactly one end point in each of a and b. \n",
    "         - Application of Maximum Flow Problem\n",
    "     - When Optimal solution is \"small\" (~ logn or less)\n",
    " - Heuristics: sacrifice some accuracy for a faster algorithm. \n",
    "     - Can use a greedy algorithm\n",
    " - Find one that is correct but better than brute-force search. Exponential time still. "
   ]
  },
  {
   "cell_type": "markdown",
   "metadata": {},
   "source": [
    "## Smarter Search for Vertex Cover"
   ]
  },
  {
   "cell_type": "markdown",
   "metadata": {},
   "source": [
    "Suppose given a positive integer k as input, want to check whether or not there is a vertex cover with size <= k. This alone does not make problem any easier (can run for k = 1 to n, p much the same). However, think of k as small. \n",
    " - Could try all possibilities, would take n choose k = Theta(n^k) time. This is if k is small though (with naive search). \n",
    " \n",
    "Substructure Lemma:\n",
    " - Consider graph G, edge (u,v) in G, integer k >= 1. \n",
    " - Let Gu = G with u and its incident edges deleted (similar with Gv). \n",
    " - Then, G has a vertex cover of size k iff Gu or Gv (or both) has a cover of size k - 1\n",
    "     - Iff statement, so assume left prove right or assume right prove left. Eventually do both directions of it. \n",
    "     - Assume right true i.e. Gu or Gv (or both) has a cover of size k - 1. Work with Gu, doesn't matter which.\n",
    "     - Suppose Gu has a vertex cover of size k - 1. \n",
    "         - There are 2 kinds of edges in G. Edges with incident vertex u, or no endpoint is u. \n",
    "         - Gu edges are Eu, i.e. edges are not incident to u. Edges incident to u are caled Fu. \n",
    "         - E = Eu + Fu. \n",
    "         - S, by virtue of being cover of Gu, then for every edge of Eu is covered.\n",
    "         - Then, for S + u, gets a cover of original graph. This bc S has an endpoint of each edge of Eu. \n",
    "     - Now assume G has a vetex cover of size k. \n",
    "         - Let S be small vertex cover of original graph G. S has k vertices, all edges E have endpoint in S. \n",
    "         - Either u or v is in S. Consider u in S. \n",
    "         - u is not endpoint of any edges in Eu. So, other k-1 vertices of Eu must be responsible for containing endpoints of all edges in Eu. u takes care of edges incident to itself. S with u removed, k-1 vertices include an endpoint from all other edges (i.e. Eu). Completes proof of the forward direction and substructure lemma. "
   ]
  },
  {
   "cell_type": "markdown",
   "metadata": {},
   "source": [
    "Search Algorithm:\n",
    " - Base Case (k = 0 or 1, Graph with 1 vertex, not specifically stated. Ignore here)\n",
    " - Assume k >= 2. \n",
    " - Pick some arbitrary edge (u,v) in E (stemming from substructure lemma)\n",
    " - Recursively searh for a vertex cover S of size k-1 in Gu (G with u and its incident edges deleted)\n",
    "     - If found, return S + u (S being cover in Gu)\n",
    " - Recursively search for a vertex cover S of size k-1 in Gv\n",
    "     - If found, return S + v\n",
    " - If both fail, conclude original graph does not have small vertex cover of size k\n",
    " \n",
    "Correctness: Proceed by induction\n",
    " - Hypothesis guarantee the correctess of the 2 recursive calls, so on smaller subproblem Gu and Gv, recursive calls correctly determine whether S of size k-1 exists.\n",
    " - Substruct Lemma guarantees correctly compile the results of 2 recursive calls into the output of our algorithms. \n",
    "     - Also if both fail, know we correctly report fail. \n",
    "\n",
    "Running Time: \n",
    " - Number of recursive calls that can be made?\n",
    "     - Depth of recursion limitted by k (since k - 1 per recursion, will hit base case when k = 0 or 1)\n",
    "     - Brancing factor <= 2 (for Gu and Gv). So, total number of calls is O(2^k)\n",
    " - O(m) work per recursive call (not counting work done by recursive calls \n",
    " - So, total upper bound is O(2^k * m). Exponential in k of course. \n",
    "     - Far better than Theta(n^k) for brute force search trying each subset of k vertices (for k constant)\n",
    "         - Naive brute force has small range of applicability. Far smaller than ours. \n",
    "     - Ours: Polynomial time as long as k = O(logn). "
   ]
  },
  {
   "cell_type": "markdown",
   "metadata": {},
   "source": [
    "# Traveling Salesman Problem"
   ]
  },
  {
   "cell_type": "markdown",
   "metadata": {},
   "source": [
    "Input: Complete undirected graph with each fo the nC2 edges have nonnegative edge costs\n",
    "\n",
    "Goal: Output a tour (permuation on vertices) that minimizes sum of corresponding m edges. Cycle that visits every vertex exactly once. \n",
    " - Brute Force: Roughly O(n!); can solve up to 14 vertices maybe. O(n!) is approx O(n^n)\n",
    " - Dynamic Programming: Obtain O(n^2 * 2^n) running time. Can maybe run 30 vertices. \n",
    " \n",
    "Not Working Optimal Substructure Lemmas:\n",
    " - Think of single-source shortset paths. Shortest path from vertex 1 all the way back to itself visiting all others p much. \n",
    "     - Similar to minimizing length of path from some source to some destination\n",
    " - Idea: Copy the format of the Bellman-Ford algorithm. Use edge budget to define subproblems. \n",
    " - For every edge budget i in (0,1,2,....n), destination j (1,2,3...n), let Lij = length of a shortest path from 1 to j that uses at most i edges.\n",
    "     - Issue: Solving all subproblems doesn't solve the original problem in polynomial-time algorithm for TSP.\n",
    "     - O(n^2) choices of subproblems. Also can correctly compute value of larger subproblems from smaller ones.\n",
    "     - Problem is that these subproblems do not create optimal solution to TSP. The biggest subproblem here is not the original problem.\n",
    "         - i does not enforce you to use budget of i edges. Shortest path from 1 to 1 is still 0 because can use 0 edges. \n",
    "         - What if, insisnt that, in loop i, must use i edges? Still does not solve original problem.\n",
    "         - This is because dose not enforce constraint that cannot visit a vertex more than once. \n",
    "             - i = n, j = 1 (1 to 1 with n edges, would be a tour); But, this can still visit for example vertices 7 and 23 twice, not visiting some other vertices. So, when i = n and j = 1, this subproblem setup will create issue. \n",
    " - Now, what if disallow repeated visits to vertex? For given i and j, length of shortest path from 1 to j using exactly i edges with no repeated vertices allowed (unless j = 1). \n",
    "     - Largest subproblem does indeed reflect original problem of TSP\n",
    "     - But then, cannot compute larger subproblems from smaller subproblems efficiently.\n",
    "         - Would hope that can formulate a recurrence to solve larger subproblems from smaller subproblems. Consider if 2nd to last vertex on the shortest path was k. \n",
    "         - Lij = min(Li-1,k + Ckj) for k != j or 1. \n",
    "         - Problem is that, with no repeated visits, final k to j hop may result in a repeated visit to j. \n",
    "             - Path from 1 to k using i - 1 edges with no repeated vertices, that path might go through j. Concatenating (k,j) yields a second visit to j, not allowed. \n",
    " - Need to know identities of vertices along the way from 1 to j. "
   ]
  },
  {
   "cell_type": "markdown",
   "metadata": {},
   "source": [
    "**Subproblems**:\n",
    " - For every destination j in (1,2,3...n); every subset S containing (1,2,3...n) that contains 1 and j:\n",
    " - Let Lsj = minimum length of a path from 1 to j that visits precisely the vertices of S (exactly once each)\n",
    "     - Note that not keep track of ordering though, focus only on subsets. So, gets us to 2^n range of subsets. \n",
    "     \n",
    "Optimal Substructure Lemma:\n",
    " - Let P be  a shortest path from 1 to j that visits the vertices S exactly once each. If last hop of P is (k,j)\n",
    "     - Consier P' from 1 to k. P' visits everything in S - j exactly once. \n",
    "     - P' must be the shortest such path from 1 to k. Proof is very similar to previous ones via \"cut and paste\" and contradiction\n",
    " - Corresponding Recurrence:\n",
    "     - Lsj = min(L(s - j)k + C(k,j)) for all k in S, k != j. Measure of size is cardinality of S. \n",
    "         - Only care about subproblems that visit one fewer vertex. \n",
    " \n",
    "Algorithm:\n",
    " - A = 2D array indexed by subsets S containing (1,2,3...n) that contain 1 and destinations j (1,2,3...n)\n",
    " - Base Case: A[s, 1] = 0 if S = 1, +infinity otherwise (no way to avoid visiting vertex twice p much)\n",
    " - For m = 2,3,4...n (subproblem size = m)\n",
    "     - For each set S containing (1,2,3...n) of size m that contains 1:\n",
    "         - For each j in S, j != 1:\n",
    "             - A[S,j] = min(A[S-j]k + C(k,j)) k in S, k != j\n",
    " - Note, array misses final hop from j to 1.\n",
    " - Return min(A[S for all n, j] + Cji) where j >= 2. \n",
    " \n",
    "Running Time:\n",
    " - 2^n choices for S, n choices for final destination j. So, n * 2^n subproblems. \n",
    " - For each subproblem, does O(n) per subproblem (looking for min in S, brute force search over choices of k; k anything in S, S could have linear size. \n",
    " - So, total is O(n^2 * 2^n)"
   ]
  }
 ],
 "metadata": {
  "kernelspec": {
   "display_name": "Python 3",
   "language": "python",
   "name": "python3"
  },
  "language_info": {
   "codemirror_mode": {
    "name": "ipython",
    "version": 3
   },
   "file_extension": ".py",
   "mimetype": "text/x-python",
   "name": "python",
   "nbconvert_exporter": "python",
   "pygments_lexer": "ipython3",
   "version": "3.7.6"
  }
 },
 "nbformat": 4,
 "nbformat_minor": 4
}
