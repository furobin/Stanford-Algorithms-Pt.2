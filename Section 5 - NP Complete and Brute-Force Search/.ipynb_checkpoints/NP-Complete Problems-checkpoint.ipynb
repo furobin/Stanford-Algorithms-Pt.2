{
 "cells": [
  {
   "cell_type": "markdown",
   "metadata": {},
   "source": [
    "## P: Polynomial-Time Solvable Problesm"
   ]
  },
  {
   "cell_type": "markdown",
   "metadata": {},
   "source": [
    "Ubiquitous Intractability:\n",
    " - Remember focus of coruse: practical algorithms and supporting theory for fundamental computational problems\n",
    " - For many computational problems, there is no known efficient or fast algorithm for problem\n",
    " - When encountering NP complete, resort to one of strategies to be discussed\n",
    " - How to formalize computational intractability using NP-completeness? Look at topic with 2 other sources. \n",
    "     - NP Completeness governs what can be accomplished computationally and what cannot"
   ]
  },
  {
   "cell_type": "markdown",
   "metadata": {},
   "source": [
    "Question: How do we formalize (in)tractability?\n",
    " - Problem is polynomial-time solvable if tehre is an algorithm that correctly solves it in O(n^k) time for some constant k. \n",
    "     - n = input length. For abstract problem, think of as number of keystrokes needed to describe input\n",
    "     - Note, k can be fuckin huge. \n",
    "     - Focus on deterministic algorithms but conclusions hold equally well for randomized algos. \n",
    "         - Basically, not reallly any problem where deterministc gets exponential but randomization can get polynomial.\n",
    " - Class P = set of all polynomial time solvable problems. \n",
    "     - Examples: Basically everything covered in this course so far except 2 NP complete:\n",
    "         - Cycle-free shortest paths in graphs with negative cycles.\n",
    "         - Knapsack Problem. \n",
    "             - input n items with values in sizes, knapsack cap W\n",
    "             - 2D array, Theta(nw) (# of items * # of weights)\n",
    "             - Input length proportional to log(W) though. \n",
    "                 - Analogy: Some problem over graph cuts. # of cuts is exponential to # of vertices. Add 1 vertex, can double running time of algorithm. Exponential Growth.\n",
    "                 - With knapsack, lets say everything written in base 10. Add one 0 to knapsack capacity (mult by ten). # of subprobems to solve goes up by 10. Added 1 digit to input, subproblems multiplied by constant subfactor. So, exponential. \n",
    "     - Interpretation: Class P is rough litmus test for \"computational tractability\" \n",
    "         - Doesn't translate exactly in practice. Some problems may be poly in time but too slow in practice, others not poly in time but still useful in practice (e.g. knapsack). \n",
    "         - Must deal with edge cases properly when writing down precise mathematical definition (like complexity class P). \n",
    "     - Problems not in P tend to require a lot of resources and domain expertise to solve in practice"
   ]
  },
  {
   "cell_type": "markdown",
   "metadata": {},
   "source": [
    "Traveling Salesman Problem:\n",
    " - Complete undireced edge with nonnegative edge costs (problem nontrivial even if costs = 1 or 2)\n",
    " - Output a min-cost tour (i.e. a cycle that visits ever vertex exactly once)\n",
    "     - Brute force: can solve in O(n!) time. \n",
    " - Conjecture (unresolved) that no polynomial time algorithm exists for this problem. How do we formalize? \n",
    " \n",
    "Reductions:\n",
    " - Conjecture - there is no polynomial-time algorithm for the TSP (P != NP).\n",
    " - Idea: amass evidence of intractability via relative difficult - TSP 'at least as hard as hard as' lots of other problems\n",
    " - Definition (informal): Problem T1 reduces to problem T2 if, given a polynomial-time subroutine for T2, can use it to solve T1 in polynomial time\n",
    "     - EX: computing median reduces to sorting; detecting cycle reduces to DFS; APSP reduces to SSSP\n",
    "     - Always want to try to employ reductions\n",
    "\n",
    "Completeness:\n",
    " - Suppose T1 reduces to T2. Consider contrapositive of this.\n",
    "     - Do not believe it is possible to solve T1 in polynomial time. If T1 reduces to T2, do not believe an compute T2 in polynomial time either. That is, T2 is at least as hard as T1.\n",
    " - Definition: Let C = a set of problems. The problem T is E-complete if:\n",
    "     - T is in C, and\n",
    "     - Everything in C reduces to T. \n",
    "         - T is the hardest problem in all of C. "
   ]
  },
  {
   "cell_type": "markdown",
   "metadata": {},
   "source": [
    "Choice of Class C:\n",
    " - Idea - strive for biggest set C we can find for more stuff this problem is as hard as, greater evidence for its intractibility.\n",
    "     - How about show this where C = ALL problems\n",
    " - Hatling Problem: Given a program and an input for it, will it eventually halt? Can try to simulate the program, but how do you know if in an infinite loop? This problem exists for any possible approach to this computational problem\n",
    "     - There is no algorithm, however slow, that solves the halting problem (Turing 1936)\n",
    "     - Thus, TSP is not at least as hard as Halting Problem so above suggestion C = All not good. TSP definitely solvable in finite time. \n",
    " - However, since we know TSP solvable via brute-forse search, among all problems which can be solved using brute force, TSP is hardest one. "
   ]
  },
  {
   "cell_type": "markdown",
   "metadata": {},
   "source": [
    "## NP Completeness"
   ]
  },
  {
   "cell_type": "markdown",
   "metadata": {},
   "source": [
    "New Idea: Prove that TSP i as hard as all brute-force-solveable problems\n",
    " - Show that every other brute forse search solvale-problem reduces to solving TSP.\n",
    " - Definition: A problem is in NP if:\n",
    "     - The solutions always have length polynomial in the input size\n",
    "     - Purpotted solutions can be verified in polynomial time\n",
    " - EX: Is there a TSP tour with length <= 1000?\n",
    "     - Consider whether a single proposed tour has at most cost 1000.See whether or not a single suggested tour meets target or not. \n",
    "     - Tour speciied by order in which visit all vertices. Length of ordering is polynomial in length of input of course, and dd up all n edges that gets traversed in this tour to check if = 1000 or not. \n",
    "         - Verify a single candidate in solution in linear time. \n",
    "         - Thus, NP complete.\n",
    " - EX: Constraint Satisfaction Problems:\n",
    "     - Have bunch of variables (simplest are binary) and list of constraints, specifies for a subset of variables a permitted list of configurations of those variables\n",
    "     - 3 SAT problem: (considers booleans); clauses forbids a single assignment to a triple of vertices. e.g., cannot assing x3 to 1, x5 to 0, 8 to 1. Does there exist an assignment of all vrialbes that simultatneously satisfies all constraints. \n",
    "     - Also belongs to class NP. \n",
    "         - Have purported assignment of all variables, check each constraint to see if variables meet constraints. \n",
    " - Interpretation of NP-Completeness:\n",
    "     - Every problem in NP can be solved by brute-force search in exponential time\n",
    "     - Seen in 2 properties:\n",
    "         - Each solution is polynomial in size, so restricts # of possible solutions. \n",
    "             - number of bitstrings of that given length to be at most exponential in input size\n",
    "         - Of those exponentially many possibilities, can verify whether or not it is a correct solution in polynomial time. \n",
    "     - P much, all it requires is that you know a solution when you see a soluution. Vast majority of natural computational problems are in NP (i.e. can recognize a solution). \n",
    "         - Complete means as hard as any other problem in that set\n",
    "         - So, bc NP so vast, NP completeness is strong evidence of intractability. \n",
    "     - A polynimal time algorithm for one NP-complete problem solves every problem in NP efficiency. (Implies P = NP).\n",
    "     - Prove a problem is intractible by showing it is NP complete\n",
    "     - An NP-complete problem encodes simultaneously all problems for which a solution can be efficiently recognied (a \"universal problem\""
   ]
  },
  {
   "cell_type": "markdown",
   "metadata": {},
   "source": [
    "Question: Can NP-complete problems really exist? Proved yes by Cook 71 and Levin 73. NP applies to a ton of problems. \n",
    "\n",
    "Proving a problem T is NP Complete:\n",
    " - Find a known NP-complete problem T'\n",
    "     - List of some that are very useful. Garey and Johson - Comptuers and Intractability\n",
    " - Prove that T' reduces to T. Shows T is at least as hard as T'. Thus, T is NP complete as well. "
   ]
  },
  {
   "cell_type": "markdown",
   "metadata": {},
   "source": [
    "### P vs. NP Question"
   ]
  },
  {
   "cell_type": "markdown",
   "metadata": {},
   "source": [
    "Question: Is P = NP?\n",
    " - P = class of problems, polynomial time solvable\n",
    " - NP = class of problems where, given a solution, can verify correctness in polynomial time\n",
    " - Widely Conjeted: P != NP; has not bee nproved\n",
    "     - Reasons: Pyschological - If P = NP, all need to do is find a polynomial time algorithm for just one NP complete problem. Someone probably would have solved it by now\n",
    "     - Philosophical - Idea that it is harder to produce a solution as opposed to check as olution: if P = NP, then finding a proof would always be as easy as verifying one\n",
    "     - Mathematical ??? No reason yet. Difficult bc polynomial time algorithm is rich af space. \n",
    " - Note: NP stands for Nondeterministic Polynomial, don't really worry about this. \n",
    "     - Think about it mainly as efficient recognition of purported solutions. "
   ]
  },
  {
   "cell_type": "markdown",
   "metadata": {},
   "source": [
    "## Algorithmic Approaches to NP-Complete Problems"
   ]
  },
  {
   "cell_type": "markdown",
   "metadata": {},
   "source": [
    "Important: NP-Completeness is not death, but need appropriate expectations and strategy. Will need to work hard to solve problem fairly efficiently, may need to compromise. \n",
    "\n",
    "3 Useful Strategies:\n",
    " - Focus on computationally tractable special cases of NP-Complete problem (EX: Weighted Independent Set in Path Graphs - NP complete in general graphs; 2SAT instead of 3SAT). These are building blocks for more sophisticated approach to NP Complete. \n",
    " - Heuristics - fast algorithms which are not guaranteed to be correct. Use Knapsack as case study for future to crate heurstic using greedy or dynamic\n",
    " - Solve in exponential time but faster than brute-force search. Knapsack problem was this p much. \n",
    "     - Brute Force produces O(2^n); our algo was O(nw). If W small, dynamic much better. \n",
    "     - Traveling Saleman Problem: 2^n instead of n!"
   ]
  }
 ],
 "metadata": {
  "kernelspec": {
   "display_name": "Python 3",
   "language": "python",
   "name": "python3"
  },
  "language_info": {
   "codemirror_mode": {
    "name": "ipython",
    "version": 3
   },
   "file_extension": ".py",
   "mimetype": "text/x-python",
   "name": "python",
   "nbconvert_exporter": "python",
   "pygments_lexer": "ipython3",
   "version": "3.7.6"
  }
 },
 "nbformat": 4,
 "nbformat_minor": 4
}
