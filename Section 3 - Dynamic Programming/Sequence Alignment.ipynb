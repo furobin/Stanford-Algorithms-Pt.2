{
 "cells": [
  {
   "cell_type": "markdown",
   "metadata": {},
   "source": [
    "Problem Review:\n",
    " - Best alignment for two strings with possible characteres {A,C,G,T}\n",
    " - Needlema-Wunsch Score = similarity measure between strings\n",
    " - Example: AGGGCT; AGG-CA (insert gap in shorter string. Total problems: 1 gap, 1 mismatch in final column. \n",
    "     - Analyze alingment by summing up penalties of flaws i.e. per gap and per mismatch.\n",
    " - Input: Strings X = x1,x2,x3...xn; Y = y1,y2,y3...yn over same alphabet Sigma. \n",
    "     - Penalty of Agap >= 0 for insreting a gap, Agap for matching a and b (so if a = b, Aab = 0)\n",
    " - Feasible Solutions - alignments i.e. insert gaps t equalize lengths of the strings\n",
    " - Over exponentially many aligments, find one that minizes the total penalty"
   ]
  },
  {
   "cell_type": "markdown",
   "metadata": {},
   "source": [
    "## Optimal Solution"
   ]
  },
  {
   "cell_type": "markdown",
   "metadata": {},
   "source": [
    "Dynamic Programming:\n",
    " - Identify subproblems, look for structure of an optimal soution for clues (i.e. develop a recurrence then reverse engineer the subproblems for optimal alignment\n",
    " \n",
    "Structure of optimal solution: \n",
    " - Consider optimal alignment alpha(X,Y); \n",
    "     - String X + gaps on top\n",
    "     - String Y + gaps on bottom; two have exat same length\n",
    "     - For very last position in both, 3 different cases to consider. \n",
    "         - With X in final position, if character in X, can only be the last character Xm.\n",
    "         - With Y in final position, if character in Y, can only be last character yn. Otherwise, can also be gaps.\n",
    "         - Pointless to consider both being gaps. Better to delete both gaps. \n",
    "     - So Cases Are:\n",
    "         - Case 1: xm = yn\n",
    "         - Case 2: xm matched with a gap\n",
    "         - Case 3: yn matched with a gap\n",
    "     - So, if know which of 3 cases we were in, done by solving subproblem recursively. What is the corersponding candidate for optimal solution then? \n",
    " - Optimal Substruction:\n",
    "     - Let X' = X - xm, Y' = Y - yn.\n",
    "         - If Case 1 holds, final position includes both xm and yn. Look at induced alignment i.e. subproblem induced by contents of all of the rest of positions.\n",
    "             - Induced alignment here is an alignment of X' and Y', this alignment is optimal. \n",
    "         - If Case 2 holds, final position includes only xm. So, induced alignment missing character xm.\n",
    "             - Case 2 holds, then induced alignment of X', Y is optimal (since Y not missing anything)\n",
    "         - If Case 3 holds, then induced alignment of X, Y' is optimal (by reasoning above)\n",
    "         \n",
    "Optimal Substructure Proof:\n",
    " - Proof of Case 1 (other cases are similar) by contradiction:\n",
    "     - Suppose induced alignment of X', Y' has penalty P while some other alignment has penalty P* < P. If that were true, could \"lift\" this alignment of X', Y' to X and Y. \n",
    "         - i.e., Use this P* alignment, append xn - yn to this new alignment. Get an alignment of X, Y ith penalty P* + alpha(xm,yn) < P + alph(xm, yn). But, this contradicts purported optimality of X,Y as stated in beginning of optimal structure. "
   ]
  },
  {
   "cell_type": "markdown",
   "metadata": {},
   "source": [
    "# DP Algorithm"
   ]
  },
  {
   "cell_type": "markdown",
   "metadata": {},
   "source": [
    "Relevant Subproblems from Above:\n",
    " - Have the form Xi, Yj where Xi = first i letters of X, Yj = first j letters of y.\n",
    " - This is bc only peeling off characters from right ens of the strings\n",
    " \n",
    "Recurrence:\n",
    " - Notation: Pij = penalty of optimal alignment of Xi, Yj\n",
    " - Pij = min(\n",
    "     - 1. alpha(xi, yj) + P(i-1, j-1) \n",
    "     - 2. alpha(gap) + P(i-1, j) #last letter of 1st string matched with gap in second\n",
    "     - 3. alpha(gap) + P(i, j-1) #last letter of 2nd string matched with gap in first)\n",
    " - Correctness follows from optimal solution above. Optimal is one of these three candidates\n",
    " \n",
    "Base Cases:\n",
    " - What is the value of P(i, 0) and P(0, i)?\n",
    "     - Value = i * alpha(gap). Aligning first i letters of X (or Y) with empty string. Will insert i gaps into empty string to equalize length, so penalty is sum of those gaps over i. "
   ]
  },
  {
   "cell_type": "markdown",
   "metadata": {},
   "source": [
    "Algo:\n",
    " - A = 2D array (2 independent parameters, one for # of x characters, one for  of y characters)\n",
    " - A[i,0] = A[0,i] = i * alpha(gap) for all i >= 0\n",
    " - for i = 1 to m:\n",
    "     - for j = 1 to n:\n",
    "         - A[i,j] = min:\n",
    "             - A[i-1, j-1] + alpha(xi, yj)\n",
    "             - A[i-1, j] + alpha(gap)\n",
    "             - A[i, j-1] + alpha(gap)\n",
    "             - Note, these 3 available for O(1) time lookup\n",
    "\n",
    "Correctness:\n",
    " - Follows from induction and correctness of recurrence\n",
    " \n",
    "Running Time: O(mn). m out loops, n inner loops, each loop O(1). "
   ]
  },
  {
   "cell_type": "markdown",
   "metadata": {},
   "source": [
    "### Reconstructing:"
   ]
  },
  {
   "cell_type": "markdown",
   "metadata": {},
   "source": [
    " - Trace back through filled-in table A, starting at A[m,n] (last one).\n",
    " - When reach subproblem A[i,j]:\n",
    "     - if A[i,j] filled using case 1, matched xi, yj and go to A[i-1, j-1]\n",
    "     - if filled using case 2, match xi with a gap and go to A[i -1, j]\n",
    "     - if filled using  case 3, match yi with a gap, go to A[i, j-1]\n",
    "     - Basically go backwards through table following how pieces are filled in. \n",
    "     - Once one string empty and other has some number of symbols, fill in gaps. \n",
    " - RunTime = O(n + m) with optimal alignment of 2 strings"
   ]
  }
 ],
 "metadata": {
  "kernelspec": {
   "display_name": "Python 3",
   "language": "python",
   "name": "python3"
  },
  "language_info": {
   "codemirror_mode": {
    "name": "ipython",
    "version": 3
   },
   "file_extension": ".py",
   "mimetype": "text/x-python",
   "name": "python",
   "nbconvert_exporter": "python",
   "pygments_lexer": "ipython3",
   "version": "3.7.6"
  }
 },
 "nbformat": 4,
 "nbformat_minor": 4
}
