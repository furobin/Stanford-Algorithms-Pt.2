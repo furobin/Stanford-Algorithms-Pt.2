{
 "cells": [
  {
   "cell_type": "markdown",
   "metadata": {},
   "source": [
    "# Problem Definition"
   ]
  },
  {
   "cell_type": "markdown",
   "metadata": {},
   "source": [
    "Input: n items, each has a value:\n",
    " - value Vi (nonnegative)\n",
    " - Size Wi (nonnegative and integer ie. integral)\n",
    " - Capacity W (a nonnegative integer)\n",
    " \n",
    "Output: \n",
    " - A subset S {1,2,3,...n} that maximises sum(Vi) subject to sum(Wi) <= W (Skyrim inventory p much)\n",
    " \n",
    "Comes up a lot, often as subroutine in task. "
   ]
  },
  {
   "cell_type": "markdown",
   "metadata": {},
   "source": [
    "### Developing Dynamic Programming Algo"
   ]
  },
  {
   "cell_type": "markdown",
   "metadata": {},
   "source": [
    "Step 1: Formulate Recurrence (optimal solution as function of problems to \"smaller\" subproblems) based on structure of an optimal solution\n",
    " - Let S = a max-value solution to an instance of knapsack \n",
    " - Consider the right-most item n (think about them as ordered even though they are not) i.e. the final item\n",
    " - Case 1: n is not in S:\n",
    "     - Then, S must be optimal with the (n-1) items (deleting the last item), same capcity W\n",
    "         - If there was diff solution S* among first n-1 items, then this would be equally true for n items [contradiction]\n",
    " - Case 2: n is in S:\n",
    "     - Consider S-{n}, then S-{n} is an optimal solution for a problem with n-1 items and W - wn.\n",
    "         - Why? If there was an S* that was better than S, then S* would be optimal for full set including n as well. Basically, S* + n > S but that is contradiction. \n",
    "         - Removing wn is reserving a buffer for item n if adding it back in.\n",
    "\n",
    "Notation: Let Vi.x = value of best solution such that:\n",
    " - Uses only the first i items\n",
    " - has total size <= x (which is p much W as it changes through recursions)\n",
    " \n",
    "From Above: for i to n and any x:\n",
    " - Vi.x = max(V(i-1).x, x ; vi + V(i-1), x-wi). Case 1 in first, case 2 in second. \n",
    " - Edge case, if wi > x, must be Case 1. "
   ]
  },
  {
   "cell_type": "markdown",
   "metadata": {},
   "source": [
    "Step 2: Identify the subproblems\n",
    " - All possible prefixes of items (1,2,....,i)\n",
    " - All possible integral residual capacities X in (0,1,2...W) where W is original capacity\n",
    " \n",
    "Step 3: Use recurrence from 1 to systematically solve all subproblems"
   ]
  },
  {
   "cell_type": "markdown",
   "metadata": {},
   "source": [
    "Algo:\n",
    " - Let A = 2D array (dimensions: keep track of which set items allowed to use and capacity to respect)\n",
    " - Initialize A[0,x] = 0 for x = 0,1,2,3...W\n",
    " - for i = 1,2,3...n:\n",
    "     - for x = 0,1,2,3...W:\n",
    "         - A[i,x] = max(A[i-1, x], A[i-1, x - wi] + vi) note, x-wi must >0. \n",
    " - Return A[n,W]\n",
    " - Runtime: Theta(nW); n in for-loop, W in nested for-loop; constant work per subproblem\n",
    " \n",
    "Correctness: Straightforwward induction; use case analysis or thought experiment to formally justify inductive step\n",
    "\n",
    "This returns the value, not the actual subset of the items. But, can identify the items in subset by tracing backwards. Individually do reconstruction algorithm."
   ]
  },
  {
   "cell_type": "markdown",
   "metadata": {},
   "source": [
    "Thinking of the 2-D array:\n",
    " - y axis = x, x axis = i\n",
    " - Table filled in from left to right, bottom to top. Each cell compares to cell directly to its left. \n",
    " - A[i-1, x]; basically copies item from left over to current cell\n",
    " - A[i-1, x=Wi] + vi;  Looks at left column, shift cells down by wi, then add vi.\n",
    " - Algo compares these two values, picks greater of two. \n",
    " \n",
    "Reconstruction:\n",
    " - Start at A[n,W], consider how did we get that value?\n",
    " - If that value = column directly to left, then did not take item n. Else, took item n. \n",
    " - Go one column to left, columns down = to weight of n. Consider this item same way as before. \n",
    "\n",
    "Optimization ideas:\n",
    " - Find min weight for all, start x at the minimum weight of them all. \n",
    " - For each item, x below Wi is going to be 0. \n",
    " - At each iteration, only ever considering \"2 columns\" in the 2-D array so only need to keep track of these two. For first item, other column is column of 0s. "
   ]
  }
 ],
 "metadata": {
  "kernelspec": {
   "display_name": "Python 3",
   "language": "python",
   "name": "python3"
  },
  "language_info": {
   "codemirror_mode": {
    "name": "ipython",
    "version": 3
   },
   "file_extension": ".py",
   "mimetype": "text/x-python",
   "name": "python",
   "nbconvert_exporter": "python",
   "pygments_lexer": "ipython3",
   "version": "3.7.6"
  }
 },
 "nbformat": 4,
 "nbformat_minor": 4
}
