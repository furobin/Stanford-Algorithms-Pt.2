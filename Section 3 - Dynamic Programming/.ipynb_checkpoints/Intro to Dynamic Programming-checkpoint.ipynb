{
 "cells": [
  {
   "cell_type": "markdown",
   "metadata": {},
   "source": [
    "Maximum Weight Independent Set Problem Statement:\n",
    " - Input - a path graph (i.e. path from one node to another basically; like a line) G = (V, E) with nonnegative weights on vertices \n",
    " - Output - independent set i.e. a subset of the graph's vertices so that no two vertices that are adjacent with maximum total weight\n",
    "     - With path, avoiding consecutive vertices p much\n",
    "\n",
    "What paradigms do we have so far? Consdier path with weights 1, 4, 5, 4\n",
    " - Brute Force - iterate through all independent sents, remembering the one with maximum total weight. Requires exponential time (even in path graph)\n",
    " - Greedy - pick point with highest value; only pick if not adjacent/consecutive with any already chose\n",
    "     - But, not always correct. For example path, will produce 6. Correct is 8. No other real approach\n",
    " - Divide and Conquer - Break path into two paths, recursively compute max weight independent set in each\n",
    "     - But, may produce things with consecutive points. For top, break into 2 halves. 1st half pick 4, 2nd pick 5. In big graph, very difficult to repair for feasible and optimal solution\n",
    "     - There are some solutions that exist in quadratic time, but not optimal at all\n",
    " - Dynamic - Will solve problem in O(n)"
   ]
  },
  {
   "cell_type": "markdown",
   "metadata": {},
   "source": [
    "# Max WIS in Path Graphs Optimal Substructure"
   ]
  },
  {
   "cell_type": "markdown",
   "metadata": {},
   "source": [
    "Critical step: Reason about structure of an optimal soution. In terms of optimal solutions of smaller subproblems. \n",
    " - This experiment narrows down the set of candidates for the optimal solution; can search through small set using brute-force-search\n",
    " - Can reason about the object trying to compute i.e., if I had an optimal solution, what could I say about it?\n",
    " - Notation: Let S be the vertcies in a Max-Weight Independent Set; Vn = last node of the input graph\n",
    " \n",
    "Case Analysis  - Vn is either in S or not in S.\n",
    " - Case 1: Vn not in S, let G' = G\n",
    "     - S is also an IS of G'. S must also be optimal of G'; if S* (a diff one) was better ,it would be better than S in G as well [contradiction]\n",
    " - Case 2: Vn is in S; then previous vertex Vn-1 not in S. Let G'' = G with Vn-1 and Vn deleted\n",
    "     - S - Vn is an optimal IS of G''. If S* - Vn was  optimal in G'' and not S, then S* with Vn would be better than S in G [contradiction again]\n",
    "     \n",
    "Towards an Algorithm:\n",
    " - Above, we see that the optimal solution must exclude last verte and is nothing more than max weight IS of G' or, if includes last vertex, msut be MWIS of G'' augmented with this last vertex Vn. \n",
    " - Corollary: If we knew whether or not Vn was in the MWIS,  could recursively compute the MWIS of G' and G''. But, do not know if Vn in optimal solution\n",
    "     - So, can try both possibilities and return the better solution. But, lmfao, this is recursive organization of brute force search. Need to elim redundancy to improve implementation time. "
   ]
  },
  {
   "cell_type": "markdown",
   "metadata": {},
   "source": [
    "## Transforming to Algorithm"
   ]
  },
  {
   "cell_type": "markdown",
   "metadata": {},
   "source": [
    "Proposed:\n",
    " - Recursively compute S1 = MWIS of G'; S2 = MWIS of G'\n",
    " - Return S1 or S2 + Vn, whichever is better\n",
    " - Good nes is will be correct; optional exercise to prove by induction\n",
    " - Bad nes, takes exponential time rn. This is bc each run of algorithm throws out 1 or 2 vertices lmfao. Ass. \n",
    " \n",
    "Question: How many distinct subproblems ever get solved by this algorithm?\n",
    " - In total, only Theta(n) distinct subproblems ever get solved in recursive algorithm. Can only find MWIS n-1 times for path graph with n elements. Remember, cuts down on problem linearly. \n",
    "     - Subproblems are obtained by successively removing nodes from right end of graph, removing 1 or 2. Guaranteed to be handed a prefix of graph. \n",
    "     - Problem with previous running time is that redundantly solves these n number of problems over and over\n",
    " \n",
    "Eliminating Redundance:\n",
    " - Obvious Fix - first time you solve a subproblem, cache its solution in a global take for O(1) time to lookup later on (called memoization). ith element of array is solution to ith problem. \n",
    "     - With this, produces linear time. \n",
    " - Even Better - Reformulate as a bottom-up iterative algorithm. Let Gi = 1st i vertices of G\n",
    "     - Populate array A left to right wit hA[i] = MWIS of Gi\n",
    "     - Initialize A[0] = 0, A[1] = Weight of 1, etc. \n",
    "     - Main Loop: for i in range(2, n):\n",
    "         - A[i] = max(A[i-1], A[1-2] + weight of i)\n",
    "         - Each iteration of for-loop runs in constant time. \n",
    "         - Total is O(n)\n",
    "     - Correct bc same as recusion with more efficient calculations. Prove by induction.\n"
   ]
  },
  {
   "cell_type": "markdown",
   "metadata": {},
   "source": [
    "## A Reconstruction Algorithm"
   ]
  },
  {
   "cell_type": "markdown",
   "metadata": {},
   "source": [
    "Optimal Value vs. Optimal Solution:\n",
    "\n",
    "The algorithm above produces the value of the MWIS for G, but does not give us the IS itself (that is, the vertices themselves). Can augment array, each entry includes value of optimal solution and actual set of vertices achieving that value\n",
    " - Correct but not ideal: wastes time and sapce. \n",
    " - Better: Trace back trhough filled-in array to reconstruct optimal solution \n",
    " - Key: We know that vertex Vi belongs to a max-weight IS of Gi iff wi + MWIS of Gi-2 >= MWIS of Gi-1\n",
    "     - If Case 1, Vn not in solution\n",
    "     - If Case 2, Vn in solution (Note, if tie, have optimal solution either way)\n",
    "     \n",
    "Reconstruction Algorithm:\n",
    " - Let A = filled-in array A (input)\n",
    " - Let S = Null \n",
    " - i = len(A) - 1\n",
    " - While i >= 1 (scan through array, right to left):\n",
    "     - if A[i-1] >= A[i-2] + weight i; (i.e. case 1 winning, exclude vi)\n",
    "         - Decrease i by 1\n",
    "     - Else (i.e. Case 2 wins)\n",
    "         - add vi to S, decrease i by 2. \n",
    " - return S\n",
    "\n",
    "Runs O(n); basically a single-scan through the array.\n",
    "\n",
    "Claim: (by induction and case analysis) final output is a MWIS of G. \n"
   ]
  },
  {
   "cell_type": "markdown",
   "metadata": {},
   "source": [
    "# Principles of Dynamic Programming"
   ]
  },
  {
   "cell_type": "markdown",
   "metadata": {},
   "source": [
    "Note: Above algorithm is a dynamic programming algo.\n",
    " \n",
    "Key Idea:\n",
    " - Identify a small number of subproblems (e.g. compute MWIS of Gi for i to n)\n",
    "     - Best acse, each subproblem solved in constant time. So, # of subproblems is lower-bound on running time p much. \n",
    " - Can quickly and correctly solve \"larger\" subproblems given the solutions to smaller subproblems (usually via recurrence. Recall how A[i] calculated. Larger subproblem solved as function of smaller subproblems.)\n",
    " - Once solving subproblem, must be able to solve original subproblem\n",
    "     - Usually, original problem is the largest of subprolems. \n",
    "     \n",
    "Usually, key is trying to identify the proper subproblems. Often can be difficult to immediately figure out subproblems, but can get there with practice (usually via reasoning about the structure of optimal solutions)"
   ]
  }
 ],
 "metadata": {
  "kernelspec": {
   "display_name": "Python 3",
   "language": "python",
   "name": "python3"
  },
  "language_info": {
   "codemirror_mode": {
    "name": "ipython",
    "version": 3
   },
   "file_extension": ".py",
   "mimetype": "text/x-python",
   "name": "python",
   "nbconvert_exporter": "python",
   "pygments_lexer": "ipython3",
   "version": "3.7.6"
  }
 },
 "nbformat": 4,
 "nbformat_minor": 4
}
