{
 "cells": [
  {
   "cell_type": "markdown",
   "metadata": {},
   "source": [
    "# Stable Matching"
   ]
  },
  {
   "cell_type": "markdown",
   "metadata": {},
   "source": [
    "Consider 2 node sets U and V (\"men\" and \"women\" historically), assume equal cardinality N for simplicity. \n",
    " - Each node in both sets has preferences.\n",
    "     - So, each node in U has a ranking of nodes in V (for preference) and vice versa. Can all have same preferences or different onces. \n",
    " - Want to compute a stable matching:\n",
    "     - Perfect Matching: Each node in U is matched to one node in V and vice versa\n",
    "     - Stable: u better strictly prefer v over alternative v's; or that v strictly prefers u over alternative u's \n",
    "         - if u and v are not matched, then either u likes its current mate v' better than v or v likes its mate u' better than u. \n",
    "         - Otherwise, u and v will want to break matching by matching with each other instead. "
   ]
  },
  {
   "cell_type": "markdown",
   "metadata": {},
   "source": [
    "## Gale-Shapley Proposal Algorithm:"
   ]
  },
  {
   "cell_type": "markdown",
   "metadata": {},
   "source": [
    "Example: A, B, C in U; D, E, F in V\n",
    " - A, B, C all preference D,E,F in order\n",
    " - Preferences in V:\n",
    "     - D = A,B,C\n",
    "     - E = B,C,A\n",
    "     - F = C,A,B\n",
    " - Start on one side:\n",
    "     - C proposes to D, D no better option so accepts\n",
    "     - B proposes to D, D prefers B so accepts, C now single\n",
    "     - A proposes to D, D prefers A most so accepts, B now single too\n",
    "     - Reloop:\n",
    "         - C will not propose to D again because rejected. So, proposes to E. E tentatively accepts\n",
    "         - B too proposes to E. E accepts because prefers to C. C now single\n",
    "         - C lastly proposes to F, F accepts. Now perfect and stable matching. "
   ]
  },
  {
   "cell_type": "markdown",
   "metadata": {},
   "source": [
    "Pseudocode:\n",
    " - While there is an unattached u in U:\n",
    "     - u proposes to top v in preference list who has not rejected u yet.\n",
    "     - each u entertains best proposals received so far\n",
    "     - Invariant: maintains that there is always a matching; u and v only tentatively engaged to one at any time. \n",
    "\n",
    "Theorem: Terminates with a stable matching after <= u^2 iterations (in particular, a stable matching always exists)\n",
    " - Each u makes at most n proposes, only n members in U, so at most n^2 iterations. \n",
    " - Terminates with a perfect matching:\n",
    "     - Consider contrary: That is, when it halds, some u is assinged to 0 v\n",
    "     - Occurs if some u is rejected by all v. Falls off ranked list and rejected by all. \n",
    "         - To be rejected by all, must be that all v has some other offer. Rejections happen only when v is assigned to another. \n",
    "         - Once a v is engaged, will remain engaged for the rest of algorithm (but engaged to higher and higher preferences over time).\n",
    "         - So, all v are engaged at the end of algorithm. But, because |U| = |V|, then if all women are engaged, all men must be engaged. Thus, must be perfect matching.\n",
    " - Terminates with a stable matching:\n",
    "     - Prove there is no blocking pair. Consider some u, v not matched to each other\n",
    "         - Case 1: u never proposed to v\n",
    "             - Means u never proposed that far down and u proposes in turn via ranked list\n",
    "             - If u never proposed to v, means engaged with another that is higher on preference list\n",
    "             - Thus, u, v is not a blocking pair bc u matched to something else preferred to v. \n",
    "         - Case 2: u proposed to v:\n",
    "             - Must mean that v got a preferred offer that is ranked higher than u\n",
    "             - Thus, u, v is not a blocking pair.\n",
    "     - Since u, v arbitrary, this is stable matching. "
   ]
  },
  {
   "cell_type": "markdown",
   "metadata": {},
   "source": [
    "# Matchings, Flows, and Breass's Paradox"
   ]
  },
  {
   "cell_type": "markdown",
   "metadata": {},
   "source": [
    "**Bipartite Matching**\n",
    "\n",
    "Input: Bipartite graph G (U,V,E) [Each e in E has one endpiont in each of U,V)\n",
    "\n",
    "Goal: Comuting a matching M containing E (i.e. pairwise disjoint edges) of maximum size\n",
    " - A matching is a sub-set of edges that are pair wise disjoint i.e. no pair of edges can overlap at an endpoint. \n",
    " - In General, this \"Maximum Matching\" problem is solvable in polynomial time for even general non-bipartite graph\n",
    "     - In bipartite case, reduces to the maximum flow problem.\n",
    "     \n",
    "**Maximum Flow Problem**\n",
    "\n",
    "Input: directed graph G = (V,E) (also works for undirected graphs)\n",
    " - Source verte s, sink vertex t.\n",
    " - Each edge e has capacity Ue, maximum amount of flow or traffic the edge can accomodate\n",
    " - From source vertex s to t, respecting capacities, want to push as much stuff possible through. \n",
    " - Amount of stuff going in has to = amount stuff going out at all areas but s and t\n",
    "     - Almost like each path from s to t is upper-bounded by minimum flow of an edge in that path\n",
    "     - Edges cannot belong to multiple paths. \n",
    " \n",
    "Goal: compute the s-t \"flow\" that sends as much flow as possible. \n",
    " - Solvable in polynomial time (via non-trivial greedy algorithms based on \"augmenting paths\" routing flow one path at a time)\n",
    "     - Most obvious approach (find path with residual capacity at each edge, sent flow along path, and repeat) does not work.\n",
    "     - Need to be able to send flow in reverse, undoing augmentations of previous iterations or something\n",
    "     - In doing so, can prove polynomial time\n",
    " - Many different methods of solvign in polynomial time as well. Many Bellman-Ford like running times, even better in practice. \n",
    " \n",
    "**Selfish Flow**\n",
    "Consider a flow network where thigns are leaving s to go to t, going through some network. \n",
    " - Can consider people in a suburb going to work, network is road traffic\n",
    " - Think of edges as delay functions, certain amont of delay for an edge. \n",
    " - 1 unit of \"selfish\" traffic such that, on this edge, will always take 1 unit of time\n",
    " - Other edges have a delay function travel time as function of edge load); delay(e) = x for example\n",
    " - Steady State:\n",
    "     - Consider 2 routes with 2 edges each. 1 \"selfish\" traffic edge in each route.\n",
    "     - Expect a 5050 split of traffic (considering other edges have same delay function)\n",
    "         - Commute takes 1 + 0.5 = 1.5 hours for each path. \n",
    " - Braess's Paradox: Add a teleporter that goes from middle of one path to middle of other path. Bypasses \"selfish\" traffic. \n",
    "     - But, likely that everyone will switch  paths to use this, encountering the two constant edges.\n",
    "     - Then, everyone will have 1 + 1 hour path. Network intuitively better, but if everyone selfishly chooses minimum travel time path, will increase. \n",
    "     - Can think of a weight hanging from strings and springs. "
   ]
  },
  {
   "cell_type": "markdown",
   "metadata": {},
   "source": [
    "# Linear Programing and Beyond"
   ]
  },
  {
   "cell_type": "markdown",
   "metadata": {},
   "source": [
    "General Problem:\n",
    " - Optimize a linear function over the intersection of half spaces. \n",
    "     - Consider a plane. Half-planes basically slits into polygons. \n",
    " - Generalizes maximum flow plus tons of other problems\n",
    " - Can solve linear programs efficiently (in theory and in practice). More explanation below. \n",
    "     - Very powerful \"black-box\" subroutine, do not need to know all the details of it as long as can learn how to use \n",
    " - Extensions: Convex programing (solvable quickly as well), integer linear programming (not really solvable quickly in theory, usually NP-hard), "
   ]
  },
  {
   "cell_type": "markdown",
   "metadata": {},
   "source": [
    "**Other Topics**\n",
    " - Deeper study of data structures, graph algorithms, approximation algorithms, etc. \n",
    " - Geometric Algorithms\n",
    "     - Low-dimensional (2 to 3 dimensions e.g. convex hull - given set of points, want to know which points are on the convex hull of the point set)\n",
    "         - Thinking about in convex hull in plane: Take a wooden board (plane). Pound nails into board (points). To comput convex hull, take rubber band so bounds all nails on board, then let go to snap onto boundary nails. This is convex hull. \n",
    "             - State of Art is mostly DnC algorithms, similar to closest pair problem. \n",
    "         - For 3D, can consider collisions btwn objects. Only need keep track of convex hulls.\n",
    "     - High-dimensional (thousands e.g. encoding documents into geometry. Maybe make list of all words in world you care about for documents, each document count number of occurrences of these words). \n",
    "         - Given new document, is it similar to any previous documents? Look at nearest neighbor query, see which point may be closest to new point. \n",
    " - Real-Time Algorithms that run Forever:\n",
    "     - Caching Problem, Network Routing problem, etc. \n",
    " - Bounded Memory (\"Streaming Algorithms\"), of interest because of massive data sets\n",
    "     - Take shit ton of data, boil down using small space into a few accurate statistics. \n",
    " - Exploiting Parallelism (e.g. via Map-Reduce/Hadoop systems)"
   ]
  }
 ],
 "metadata": {
  "kernelspec": {
   "display_name": "Python 3",
   "language": "python",
   "name": "python3"
  },
  "language_info": {
   "codemirror_mode": {
    "name": "ipython",
    "version": 3
   },
   "file_extension": ".py",
   "mimetype": "text/x-python",
   "name": "python",
   "nbconvert_exporter": "python",
   "pygments_lexer": "ipython3",
   "version": "3.7.6"
  }
 },
 "nbformat": 4,
 "nbformat_minor": 4
}
