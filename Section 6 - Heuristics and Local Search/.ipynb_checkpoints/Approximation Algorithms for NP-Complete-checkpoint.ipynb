{
 "cells": [
  {
   "cell_type": "markdown",
   "metadata": {},
   "source": [
    "Recall NP-Complete Techniques:\n",
    " - Identify computationally tractable special cases; almost always good to have these lying around to reduce problems into these cases\n",
    "     - EX: Knapsack instances with small capity (i.e. W = polynomial in n\n",
    " - Heuristics; sacrifice 100% correctness for speed\n",
    "     - Pretty good greedy heuristic for Knapsack. Also very fast. \n",
    "     - Excellent dynamic programming. Polynomial time (not as good as greedy) but more acurate than greedy.\n",
    " - Insist on correctness; adopt exponential time but better than brute-force\n",
    "     - O(nW) time dynamic programming for Knapsack vs. O(w^n) brute-force search. \n",
    "\n",
    "Ideally, should provide a performance guarantee i.e. \"almost correct\" for all (or at least many) instances of the problem that is sufficiently fast and efficient."
   ]
  },
  {
   "cell_type": "markdown",
   "metadata": {},
   "source": [
    "# Knapsack Revisited"
   ]
  },
  {
   "cell_type": "markdown",
   "metadata": {},
   "source": [
    "Input: n items, each with a positive value vi and size wi. Also knapsack capacity W..\n",
    "\n",
    "Output: A subset S of items that maximizes sum of values while satisfying weight of S < W. "
   ]
  },
  {
   "cell_type": "markdown",
   "metadata": {},
   "source": [
    "## A Greedy Heuristic:"
   ]
  },
  {
   "cell_type": "markdown",
   "metadata": {},
   "source": [
    "Motivation: Greedy algorithm may be good enough and extremely fast. \n",
    " - Consider order of items where, adding in item in order (permanent decision) would be good enough.\n",
    " - Ideal items have good value to weight ratio. (Think back to scheduling problem, want high weight to be first, want high length last. Looked at job ratios).\n",
    "     - Knapsack: Sort and reindex items by value/weight, highest to lowest. \n",
    " - Pack items in this order. Problem is, at a certain point, Knapsack will be full. Once one doesn't fit, then close program\n",
    "     - In truth, can keep looking at next items for those that have smaller weights (even if less efficient). Will run through entire list until weight of S = W. However, do not worry about this for now. \n",
    "     - Example: v1 = 2, w1 = 1. v2 = 4, w2 = 3. v3 = 3, w3 = 3. W = 5\n",
    "     - Packs 1, Packs 2, 3 doesn't fit. So, solution gives (1, 2) with total value 6. Indeed optimal.  \n",
    " - Problem: Consider v1 = 2, w1 = 1. v2 = 1000, w2 = 1000. W = 1000:\n",
    "     - Greedy will return (1); optimal solution will return (2). 2nd item ratio worse but fills whole knapsack with better value.\n",
    " - So, greedy solution can be arbitrarily bad relative to an optimal solution. Add step 3 to heuristic.\n",
    "     - Return either Step-2 solution or the maximum valuable item, which ever is better. i.e., does check. ooks at each item individually, if item dominates solution computed so far, return that single item. Transforms greedy heuristic into a reasonably good worst-case guarantee.\n",
    " - Runs O(nlogn) time, really just a sorting problem."
   ]
  },
  {
   "cell_type": "markdown",
   "metadata": {},
   "source": [
    "### Analysis of Greedy Knapsack Heuristic"
   ]
  },
  {
   "cell_type": "markdown",
   "metadata": {},
   "source": [
    "Theorem: Value of the 3-step greedy solution is always >= 50% value of an optimal solution. \n",
    " - Use a theought experiment in which we use as a yardstick, an algorithm that gets to cheat. \n",
    " - What if we were allowed to fill fully the knapsak using a suitable \"fration\" (like 70%) of item k + 1 (the value of which is \"pro-rated\")\n",
    "     - For example, first k items fit but k + 1 item does not fit. Take a fraction of this k + 1 item to fill the knapsack fully. If size k + 1 has size 10 and have 7 units left of knapsack, use 70% of k + 1 i.e. take 70% of its value. \n",
    "     - Call this the \"Greedy Fractional Solution\"\n",
    "     - EX: W = 3, v1 = 3, v2 = 2, w1 = w2 = 2. Then, Greedy Fractional solution has value 4. Takes 1, takes 50% of 2. \n",
    " - Relative to feasible solutions of the knapsack instance, will create value >= optimal non-fractional solution. Proof Sketch:\n",
    "     - Use an exchange argument (similar to scheduling argument)\n",
    "     - Let S = an arbitrary feasible solution, can have some same items as greedy fractional solution. \n",
    "     - Suppose L units of knapsack filled by S with items not packed by greedy fractional solution (which completely fills knapsack).\n",
    "     - Must be at least L units of knapsack filled by greedy fractional solution not packed by S (because greedy fully packs).\n",
    "     - By greedy criterion, items in 3 have larger bang-per-buck (vi/wi) than those in 2 (i.e. more valueable use of space).\n",
    "         - Besides L, greedy and feasible have same items so same value. Leftover L is the difference. \n",
    "         - Total value of greedy fractional solution >= arbitrary feasible solution. "
   ]
  },
  {
   "cell_type": "markdown",
   "metadata": {},
   "source": [
    "In step 2, suppose our greedy algorithm picks the first k items\n",
    " - Value of 3-step greedy algorithm >= total value of the 1st k items (chosen in step 2)\n",
    " - 2nd candidate considered is the max-value item by itself. \n",
    " - Thus, >= value of (k + 1)* item (since at best this item can be max-value item by itself\n",
    " - 2* value of 3-step greedy >= total value of 1st k + 1 items then. \n",
    " - >= total value of greedy fractional solution \n",
    " - Since greedy fractional solution >= optimal knapsack solution, then value of 3-step greedy >= 50% of optimal solution. \n",
    " \n",
    "Better Guarantees:\n",
    " - Sharpen analysis of greedy heuristic, better proof of it:\n",
    "     - Analysis cannot be sharpened any more i.e. analysis above is tight. \n",
    "     - Consider example: W = 1000, \n",
    "         - v1 = 502, w1 = 501. \n",
    "         - v2 = v3 = 500; w2 = w3 = 500.\n",
    "         - Algo sorts items, will be 1, 2, 3. \n",
    "             - Step 2: packs item 1 in knapsack. Outputs 1 bc no room for either one\n",
    "             - Step 3: Again, item 1 is highest value. So, final output is 1, value is 502. Optimal solution = 1000 though. \n",
    "     - So, for better guarantees, need to choose one of two below options. Cannot sharpen analysis more bc instances exist where performance is aas bad as 50% of optimal. \n",
    " - More assumptions on instances that allow us to prove better performance guarantees\n",
    "     - Suppose eery item i has size <= 10% knapsack capacity W. (nothing special about 10%). \n",
    "     - Consequence: if greedy algorithm fails to pack all items in Step 2, then the knapsack is >= 90% full (because weight of k+1 <= 10%.\n",
    "         - Thus, value of 2-step greedy algorithm >= 90% value of greedy fractional solution (greedy packs k items + 10% of k + 1 item). \n",
    "         - Last 10% of greedy fractional solution is least important since packs according to bang per buck. So, at most can account for 10% of the overall value of greedy fractional solution. \n",
    "         - Since greedy fractional solution >= any optimal and feasible solution:\n",
    "             - 2-step greedy algorithm >= 90% value of optimal solution\n",
    "             - If weights <=  20%, 2-step >= 80% of optimal and so forth for other fractions. \n",
    " - Come up with a whole new algorithm - look to dynamic programming instead. "
   ]
  },
  {
   "cell_type": "markdown",
   "metadata": {},
   "source": [
    "## Dynamic Programming Heuristic"
   ]
  },
  {
   "cell_type": "markdown",
   "metadata": {},
   "source": [
    "Goal: For a user-specified parameter e > 0, guarantee a 1-e approximation. (e.g. e = 0.01 means 99% accuracy)\n",
    "- Running time will increase as e decreases, exports a running time vs. accuracy trade-off. Get arbitrarily close to correct answer in polynomial time. Abt as good as possible for NP complete (most problems can't do this)\n",
    "\n",
    "Idea: Exactly solve a slightly incorrect but easier knapsack instance. As long as not transformed too much, hope solution to transformed problem is a good approximation\n",
    " - Recall: If wis and W are integers, can solve the knapsack problem via dynamic programming in O(nW) time. \n",
    " - Alternative: If vis are integers, can sole knapsack via dynamic prograaming in O(n^2 vmax) time here vmax = max(vi). This will be shown in a separate section.\n",
    " - Upshot: If all vi's are small integers (polynomial in n), then already know a poly-time algorithm. \n",
    "- Plan, throw out lower-order bits of the vi's. Force item values to be small integers p much. \n",
    "\n",
    "Algorithm:\n",
    " - Step 1:\n",
    "     - Round each vi down to the nearest multiple of m (m depends on e, exact value to be determined later)\n",
    "         - Doing so decreases vi by an amount between 0 and m. The larger the m, the more info throwing out (which means larger e)\n",
    "     - Divide the results by m to get vi.hat integers (i.e. vi.hat = [vi/m] floor operator, round down to nearest integer)\n",
    " - Step 2:\n",
    "     - Use dynamic programming to solve the knapsack instance with values vi.hats. Will cover this dynamic programming below.\n",
    " - Running Time = O(n^2 * max vi.hat). Note: guaranteed to produce a feasible solution (since capacity and weights do not change). "
   ]
  },
  {
   "cell_type": "markdown",
   "metadata": {},
   "source": [
    "**Dynamic Programming Algorithm 1 via Weights**:\n",
    " - Assume sizes wi and capacity W are integers\n",
    " - Running time = O(nW)\n",
    "\n",
    "**Dynamic Programming via Values**\n",
    " - Assume values vi are integers\n",
    " - Running Time = O(n^2 * vmax) where vmax denotes maximum value of any item. \n",
    "     - These two work out to be about the same running time. \n",
    "     - Think of W as upper bound on the largest total size that a feasible solution might possess\n",
    "     - Think of n * vmax as upper bound on maximum total value that any feasible solution might possess\n",
    "     - In both cases, max quantity worried about * number of items n. Very similar \n",
    "     \n",
    "Relevant Subproblems and Recurrence:\n",
    " - Index i specifies which prefix of items permitted to use in a given subproblem\n",
    " - x = some value that we are shooting for.\n",
    " - For i in 0 to n (all items might be interested in):\n",
    "     - for x in 0 to n * vmax (or sum of vi's if want) (remember, values are integers)\n",
    "         - Si,x = minimum total size needed to achieve value >= x while using only the first i items, +inf if not possible\n",
    "             - Size means combined weights\n",
    "         - These are the considerations, not a formal algorithm \n",
    " - Recurrence (i >= 1)\n",
    "     - Si,x = min(\n",
    "         - Case 1: Si-1,x i.e. item i is not used in optimal solution\n",
    "         - Case 2: wi + Si-1, x - vi; i used in optimal solution; if vi > x, interpret x - vi as 0. \n",
    "         \n",
    "Pseudocode:\n",
    " - Let A = 2D Array (indexed by i and x)\n",
    " - for i in 1 to n:\n",
    "     for x in 0 to n * vmax:\n",
    "         - A[i,x] = min(\n",
    "             - A[i - 1, x]\n",
    "             - A[i - 1, x - vi] + wi\n",
    " - return the largest x such that A[n,x} <= W\n",
    "         \n",
    "Not, none of the subproblems are the orignal problem we want to solve. None tell max val of a feasible solutions. Consider when i = n (can use any subset want), target value x (e.g. 17231\n",
    " - Will have smallest total size of a bunch of items with value at least 17231. Could be 11,298, but what if knapsack capacity is 10,000? Problem here. \n",
    "     - If know every solution of 17231 has size larger than W, know that optimal solution must be less than 17231. \n",
    "     - Since we know information for every single target value x, feasible\n",
    "     - Begin with largest target value x, go to low target values. Find first target x where size < W. See above pseudocode\n",
    "     \n",
    "Running Time:\n",
    " - Total of n^2 vmax iterations in total\n",
    "     - constant work per iteration\n",
    " - Final step of returning is O(nvmax)\n",
    " - So, total running time is O(n^2 vmax). "
   ]
  },
  {
   "cell_type": "markdown",
   "metadata": {},
   "source": [
    "### Analysis"
   ]
  },
  {
   "cell_type": "markdown",
   "metadata": {},
   "source": [
    "Recall:\n",
    " - Step 1: Set vi.hat = [vi/m] floor func for al i\n",
    "     - The larger the m, the larger the loss in information so less accurate. \n",
    " - Step 2: Compute optimal solution with respect to the vi.hats using dynamic programming above. \n",
    " \n",
    "Analysis Plan:\n",
    " - Study accuracy constraint e where accuracy of output must be (1-e). So, how big an we take m subject to achieving this approximation? \n",
    " - Plug in this value of m to determine running time with respect to e and m. "
   ]
  },
  {
   "cell_type": "markdown",
   "metadata": {},
   "source": [
    "**Accuracy Analysis:**\n",
    " - Note: vi.hat* m is between vi-m and vi. Remember, is pretty much vi decreased to nearest multiple of m then divide by m. \n",
    " - Thus, (1) vi >= m * vi.hat \n",
    "     - (2) m * vi.hat >= vi - m\n",
    " - Also note that if S* = optmial solution to the original problem (with original vi's) and S = our heuristic solution (optimal for modified problem), then:\n",
    "     - (3) sum vi.hat in S >= vi.hat S*. S is better than S* when using modified values (with same items). S* could be any other solution bc S is optimal for modified vi.hats. \n",
    " - Observe (3) where sum(vi.hat) in S >= sum(vi.hat) in S* ; want to maintain this while converting vi.hat to vi.\n",
    "     - sum(vi) in S >= m(sum(vi.hat)) in S >= m(sum(vi.hat)) in S* ; multiply m to both sides, consider (1) as well\n",
    "     - sum(vi) in S >= m(sum(vi.hat)) in S ; consider (1) on left\n",
    "     - m(sum(vi.hat)) in S* >= sum(vi - m) in S* ; consider (2) on right\n",
    "     - Thus, sum(vi) in S >= sum(vi) in S* - mn (where S* contains at most n items).\n",
    " - Constraint: sum(vi) in S >= (1-e) sum(vi) in S*\n",
    "     - To achieve this, choose m small enough such that mn <= e * sum(vi); but do not know this sum\n",
    "     - Assume that each item has size at most W (each item fits by itself inside Knapsack). Then, optimal solution is at least as large as the value of the max value item. \n",
    "     - So, set m small enough so that mn = e * vmax i.e. heuristic uses the value m = e * vmax/n\n",
    "     \n",
    "**Running Time Analysis**\n",
    " - Setting m = e * vmax / n\n",
    " - Recall running time is O(n^2 * v.hat max)\n",
    "     - v.hat max <= v.max/m = vmax * n / (e * vmax) = n/e\n",
    "     - So, running time = O(n^3/e)"
   ]
  }
 ],
 "metadata": {
  "kernelspec": {
   "display_name": "Python 3",
   "language": "python",
   "name": "python3"
  },
  "language_info": {
   "codemirror_mode": {
    "name": "ipython",
    "version": 3
   },
   "file_extension": ".py",
   "mimetype": "text/x-python",
   "name": "python",
   "nbconvert_exporter": "python",
   "pygments_lexer": "ipython3",
   "version": "3.7.6"
  }
 },
 "nbformat": 4,
 "nbformat_minor": 4
}
