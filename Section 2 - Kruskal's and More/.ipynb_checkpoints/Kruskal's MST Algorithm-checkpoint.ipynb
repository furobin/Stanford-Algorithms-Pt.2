{
 "cells": [
  {
   "cell_type": "markdown",
   "metadata": {},
   "source": [
    "# Kruskal's MST"
   ]
  },
  {
   "cell_type": "markdown",
   "metadata": {},
   "source": [
    "Overview:\n",
    " - Competitive with Prim's in both theory and practice; greatest hit baybee\n",
    " - New Data Structure - Union-Find Data structure. O(mlogn) with this struct\n",
    " - Clustering and such"
   ]
  },
  {
   "cell_type": "markdown",
   "metadata": {},
   "source": [
    "MST Review:\n",
    " - Input undirected graph G, each edge with cost Ce\n",
    " - Output - Min-Cost spanning tree (no cycles, completely connected)\n",
    " - Assume G is connected, distinct edge costs (tho ties don't break algo)\n",
    " - Cut Property - if e is thecheapest edge crossing some cut, then e belongs to MST"
   ]
  },
  {
   "cell_type": "markdown",
   "metadata": {},
   "source": [
    "Kruskals Idea:\n",
    " - Just look at cheapest edge in graph, add to collection. Continue\n",
    "     - Exclude if creates a cycle\n",
    "     - Edges can be disjoint, do not need to maintain connectivity of subgraph at each individual step\n",
    "\n",
    "KruskalMST(Graph):\n",
    " - sort edges in order of increasing edge cost (rename edges 1,2,3,4...m, C1 < C2... <Cm)\n",
    " - T = None (edges, tree in progress)\n",
    " - for edge in all edges to m:\n",
    "     - If T(edge) has no cycles\n",
    "         - add edge to T\n",
    " - return T\n",
    " - Really, can run as while loop to count number of vertices instead. "
   ]
  },
  {
   "cell_type": "markdown",
   "metadata": {},
   "source": [
    "### Correctness"
   ]
  },
  {
   "cell_type": "markdown",
   "metadata": {},
   "source": [
    "Theorem: Kruskal's is correct\n",
    "\n",
    "Same as Prims, prove outputs a tree, then prove outputs smallest\n",
    "\n",
    "Proof: Let T* = output of Kruskal's algorithm on input graph G\n",
    " - Clearly, T* has no cycles based on pseudocode\n",
    " - T* is connected, why?\n",
    "     - By EmptyCut Lemma, only need to show that for every cut, at least one crossing edge. Show T* crosses every cut. \n",
    "     - Fix a cut, (A,B). Assuming that input G is connected, G contains at least one edge that crosses this cut.\n",
    "         - Key Idea: Kruskal's considers each edge one time. When Kruskal's first considers an edge crossing A,B, this edge will definitely be included in T*. \n",
    "         - This first edge cannot be a cycle by Lonely Edge Corollary. Canot choose cycles. This edge is guaranteed to be chosen. Thus, at least one edge of Kruskal's output crossing this particular cut A,B. Bc A,B is arbirary, all edges/cuts have some edge of T* crossing them.\n",
    "     - Thus, Kruskal's outputs a spanning tree\n",
    " - Every edge of T* justified by the Cut Property. This means T* is the MST\n",
    "     - Consider iteration where edge (u,v) added to current set T. At this intermediate, can have multiple separate connected components and isolated vertices\n",
    "     - Since T U (u,v) has to cycle, T has no current path between u and v, so in diff pieces. \n",
    "         - Thus, there exists empty cut (A,B) separating u and v (as in empty cut lemme)\n",
    "         - Can find cuts A and B with u on one side, v on other side, no cut in between two (looking at T)\n",
    "         - This added edge not only crosses A,B, but is also the cheapest cut. Recall, Kruskal's always adds first edge it encounters that crosses cuts (w/o producing cycle). This is because Kruskal's considers lowest cost edges first. \n",
    "         - Thus, (u,v) is justified by the Cut Property\n",
    "     "
   ]
  },
  {
   "cell_type": "markdown",
   "metadata": {},
   "source": [
    "### Implementing  via Union-Find"
   ]
  },
  {
   "cell_type": "markdown",
   "metadata": {},
   "source": [
    "KruskalMST(Graph):\n",
    " - sort edges in order of increasing edge cost (rename edges 1,2,3,4...m, C1 < C2... <Cm)\n",
    " - T = None (edges, tree in progress)\n",
    " - for edge in all edges to m:\n",
    "     - If T(edge) has no cycles\n",
    "         - add edge to T\n",
    " - return T\n",
    " - Really, can run as while loop to count number of vertices instead.\n",
    " \n",
    "Straightforward Implementation:\n",
    " - First sorts edges in order of increasing edge cost, O(mlogmn)\n",
    "     - logm and logn interchangeable in big O. m <= n^2. If log(m) -> log(n^2) -> 2logn -> O(logn)\n",
    " - For-loop: O(m) iterations\n",
    "     - if statement: O(n) time to check for cycle. Checks if u,v path exists for (u,v) edge. Start at U, see if reach v or not basically. Takes time linear in graph. Only look at edges in T, at most N - 1 edges. \n",
    "         - Note, cannot just check if both vertices in X. Remember, Kruskal's doesnt maintain connected components.\n",
    " - So, overall, O(mn) since for-loop dominates. \n",
    " \n",
    "Union-Find allows looking for a cycle in constant time. Then, sorting dominates running time bc constant time for each iteration of while loop (O(m)). Runtime goes to O(mlogn)."
   ]
  },
  {
   "cell_type": "markdown",
   "metadata": {},
   "source": [
    "**Union-Find**\n",
    " - Fairly primitive version here and not incredibly extensive discussion. Better implementations -> better runtime.\n",
    " - Maintains a partition of a set of objects (C1, C2, C3, C4 disjionted subsets that in union comprise entire set).\n",
    " - Operations:\n",
    "     - Find(X) - return name of group that x belongs to\n",
    "     - Union(Ci, Cj) - fuse groups Ci, Cj into a single one.\n",
    " - For Kruskal's\n",
    "     - At beginning, each vert is own component.\n",
    "     - When components added, effectively combining components. \n",
    "     - Objects in Data = Vertices\n",
    "     - Groups = Connected components currently chosen formed by edges in T\n",
    "     - Adding new edge (u,v) to T is fusing connected components of u, v\n",
    "     \n",
    "Basics, Motivation O(1) time cycle checks in Kruskals:\n",
    " - Idea 1 - maintain one linked structure per connected component of V,T\n",
    "     - Each vertex of graph has extra pointer basically\n",
    "     - Each component has an arbitrary vertex that's the \"leader\"\n",
    " - Invariant - each vertex points to the leader of its connected component (basically component ID)\n",
    "     - Given 2 vertices, u,v, check if have same leader. If same leader, adding u,v will create cycle\n",
    "     - Comparing these two leaders is constant time.\n",
    "     - Checking cycles then is O(1) for edge (u,v) (Find(u) == Find(v)) iff cycle check is true, will create cycle\n",
    " - Maintaining Invariant:\n",
    "     - When new edge (u,v) added, fuses two connected components. Need to update leader pointers\n",
    "     - In worst case, need to update O(n) pointers. I.e., fuse 2 sets, each of n/2 size\n",
    " - Idea 2 - when two components merge, new union inherits leaders of one of the two components\n",
    "     - Keep leader from the larger of the two components (so rewire less components); smaller component inherits\n",
    "     - Can augment Union-Find, maintain size field for each group. Can check constant time the population of two groups\n",
    "     - ith this, still need to update O(n) pointers lmfao. \n",
    "     - Updating Leader Pointers:\n",
    "         - With vertex-centric view, how many times does a single vertex have its leader pointer update over the course of Kruskals? Will update at most O(logn) times. \n",
    "             - Lets say vertex in C size = 20. If updating vertex leader, other C has to be at >= 20. So, new union size is at least 2x original size. Can only happen <= log2(n) times. "
   ]
  },
  {
   "cell_type": "markdown",
   "metadata": {},
   "source": [
    "Running Time Analysis:\n",
    " - O(mlogn) for sorting\n",
    " - O(m) time for cycle checks, (O(1)) per iteration\n",
    " - O(nlogn) time overal for leader pointer updates (when combining, this is for all vertices since each vertex is O(logn)\n",
    " - O(mlogn) for sorting dominates. Overall, O(mlogn) "
   ]
  },
  {
   "cell_type": "markdown",
   "metadata": {},
   "source": [
    "### MSTs: State-of-the-Art and Open Questions"
   ]
  },
  {
   "cell_type": "markdown",
   "metadata": {},
   "source": [
    "Question: Better than O(mlogn) running time for MSTs?\n",
    "\n",
    "Answer: Yes. \n",
    " - O(m) randomized algorithm. [Karger-Klein-Tarjan JACM 1995]\n",
    " - Do not know if there is a linear time deterministic algorithm that runs O(m). \n",
    " - O(m alpha(n)) deterministic algorithm exists; alpha(n) is the \"Inverse Ackerman Function\"\n",
    "     - Really close to linear time. Very slow-growing. \n",
    "     - Grows slower than Log* n = # of times you can apply log to n until result drops below 1. (Inverse of \"tower function 2^2^2^2). \n",
    " - And more, not finished"
   ]
  }
 ],
 "metadata": {
  "kernelspec": {
   "display_name": "Python 3",
   "language": "python",
   "name": "python3"
  },
  "language_info": {
   "codemirror_mode": {
    "name": "ipython",
    "version": 3
   },
   "file_extension": ".py",
   "mimetype": "text/x-python",
   "name": "python",
   "nbconvert_exporter": "python",
   "pygments_lexer": "ipython3",
   "version": "3.7.6"
  }
 },
 "nbformat": 4,
 "nbformat_minor": 4
}
