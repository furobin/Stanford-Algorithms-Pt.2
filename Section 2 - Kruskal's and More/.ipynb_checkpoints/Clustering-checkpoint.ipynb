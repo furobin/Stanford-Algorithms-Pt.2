{
 "cells": [
  {
   "cell_type": "markdown",
   "metadata": {},
   "source": [
    "# Clustering and MST Application"
   ]
  },
  {
   "cell_type": "markdown",
   "metadata": {},
   "source": [
    "Informal Goal: Given n \"points,\" (points are representation of something we care about e.g. web pages, images, genome fragments, etc.) classify into \"coherent groups\"\n",
    " - Machine Learning: \"unsupervised learning\"\n",
    "\n",
    "Assumptions: As input, given a (dis)similarity measure i.e. a distance d(p,q) between each pair\n",
    " - Symmetric, d(p,q) = d(q,p)\n",
    " - Examples: Euclidian Distance or other norms\n",
    " \n",
    "Goal: Same cluster = points that are \"nearby\"\n",
    " - Take optimization basd approach: take an objective function on clusterings and seek out clusterings that optimizes (e.g. k-means clustering)"
   ]
  },
  {
   "cell_type": "markdown",
   "metadata": {},
   "source": [
    "Max-Spacing k-Clusterings:\n",
    " - Assume: we know k = # of clusters desired. \n",
    " - Call points p, q separated if they're assigned to different clusters.\n",
    " - Spacing of a cluster = distance between closest together pair of separated points.\n",
    "     - Want spacing to be as big as possible\n",
    " - Problem: Given a distance measure d and k, compute the k-clustering with maximum spacing"
   ]
  },
  {
   "cell_type": "markdown",
   "metadata": {},
   "source": [
    "A Greedy Algorithm:\n",
    " - Want to make objective function go up i.e. max the spacing of clusters\n",
    " - So, look at pair of points that is defining the objective (the closest pir of separated poitns) and fuse them into one cluster so they are no longer separated\n",
    " - Stop once reaching k, # of desired clusters\n",
    " \n",
    "Pseudocode:\n",
    " - Initially, each point is in a separate cluster\n",
    " - Repeat until only k clusters:\n",
    "     - Let p, q = closest pair of separated points (determines current spacing)\n",
    "     - Merge clusters containing p, q into single cluster\n",
    " - Note that this looks very similar to Kruskal's basically adding minimum edge to collection. Only diff is that it's stopped early once # of clusters reached. \n",
    "     - Points = vertices\n",
    "     - Distances = edges\n",
    " - This clustering is called single-link clustering; fusing components one at a time using MST-like criterion"
   ]
  },
  {
   "cell_type": "markdown",
   "metadata": {},
   "source": [
    "## Correctness"
   ]
  },
  {
   "cell_type": "markdown",
   "metadata": {},
   "source": [
    "Theorem - Single-link clustering finds the max-spacing k-clustering\n",
    "\n",
    "Proof:\n",
    " - Let C1, C2,.. Ck = greedy clustering with spacing S\n",
    " - Let C1.hat, C2.hat...Ck.hat = some arbitrary other clustering\n",
    " - Need to show that otherclustering spacing is <= S\n",
    " - Case 1: C.hats are the same as the C's, has the exact same spacing.\n",
    " - Case 2: Otherwise, can find a point pair p, q such that:\n",
    "     - p, q in the same greedyc luster Ci, and:\n",
    "     - p, q in different lusters Ci.hat, Cj.hat\n",
    "         - Property of Greedy - If 2 pairs, x,y, directly merged at some point, then d(x,y) <= S. Distance between merged point pairs only goes up. This bc Greedy picks smallest distance and merges, effectively deleting from consideration. S is the largest distance of 2 points NOT merged. \n",
    "     - Easy Case: If p,q directly merged at some point, Spacing of C.hats <= d(p,q) <= S. \n",
    "         - Bc p,q in different C.hats, they are separated by the C.hats and therefore the upper bound the spacing ofthe C hats. \n",
    "     - Tricky Case: p,q \"indirectly merged\" through multiple direct merges of points in respective clusters. \n",
    "         - Let p, a, a1, a2...al,q be the path of direct greedy mergers connecting p and q\n",
    "         - Since p in Ci.hat, q not in Ci.hat. There must be some consecutive pair ai, ai+1 with ai in Ci.hat, ai+1 not in Ci.hat. Now, effectively, instead of comparing p and q, can compair ai and ai+1. \n",
    "         - S >= d(ai, ai+1) >= spacing of C.hats. \n",
    "             - This is basically back in easy case. ai and ai+1 directly merged in Greedy since p and q are in same cluster. "
   ]
  }
 ],
 "metadata": {
  "kernelspec": {
   "display_name": "Python 3",
   "language": "python",
   "name": "python3"
  },
  "language_info": {
   "codemirror_mode": {
    "name": "ipython",
    "version": 3
   },
   "file_extension": ".py",
   "mimetype": "text/x-python",
   "name": "python",
   "nbconvert_exporter": "python",
   "pygments_lexer": "ipython3",
   "version": "3.7.6"
  }
 },
 "nbformat": 4,
 "nbformat_minor": 4
}
