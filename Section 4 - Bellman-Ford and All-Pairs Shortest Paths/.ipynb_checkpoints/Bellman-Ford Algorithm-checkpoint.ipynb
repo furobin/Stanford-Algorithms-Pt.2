{
 "cells": [
  {
   "cell_type": "markdown",
   "metadata": {},
   "source": [
    "# Bellman-Ford Algorithm"
   ]
  },
  {
   "cell_type": "markdown",
   "metadata": {},
   "source": [
    "Recall: Single-Source Shortest Pths:\n",
    " - Input directed graph G with source vertex s and edge lengths Le for all edges. \n",
    "     - No parallel dges. Might as well throw away all parallels except for smallest length.\n",
    " - For every destination v in V, compute the length of a shortest s-v path. \n",
    " - Previously solved using Dijkstra's\n",
    " \n",
    "Dijkstra's:\n",
    " - O(mlogn) running time using heaps. m = # edges, n = # vertices\n",
    " - Problem is, need to have all positive edges else not always correct\n",
    "     - e.g. if edges correspond to financial transactions\n",
    " - Issue is, also not very distributed (relevant for Internet routing). Dijkstra's very centralized. "
   ]
  },
  {
   "cell_type": "markdown",
   "metadata": {},
   "source": [
    "**Shortest Paths with Neg Paths and Cycles**\n",
    "\n",
    "Question: How do we define shortest paths when G has a negative cycle?\n",
    " - Negative cycle is when sum of edge costs in cycle < 0\n",
    " \n",
    "Solutions:\n",
    " - 1. Compute the shortest s -> v path, allow cycles. \n",
    "     - However, this does not work bc can keep finding shorter path by running on cycle. Shortest path may be -inf\n",
    " - 2. Compute shortest cycle-free s-v path. \n",
    "     - Issue is that this is \"np complete.\" No known computationally efficient solution. NP-hard (No polynomial algorithm unless P = NP (will be explained more later))\n",
    " - 3. Assume that, for now, graph does not have negative cycles (allow neg edges still\n",
    "     - Automatically checked in Bellman-Ford. Either finds shortest path or returns a negative cycle.\n",
    "     - If G has no negative-cost cycles, for every v, there is shortest path with at most n - 1 edges from s to v.\n",
    "         - Assump controls how many edges are necessary to ensure a shortest path\n",
    "         - Visits at most n - 1 vertices, cannot visit a vertice more than once because that would be a cycle. If rip out cycle, get another path from s to v so total edge length has gone down (bc directed cycle must be nonnegative or smthn)"
   ]
  },
  {
   "cell_type": "markdown",
   "metadata": {},
   "source": [
    "## Optimal Substructure"
   ]
  },
  {
   "cell_type": "markdown",
   "metadata": {},
   "source": [
    "Goal: Find shoretst path from s to every v in V. Length of paths = sum of edge costs. \n",
    " - Or, output a negative cycle as an excuse for failure to compute shortest path distance. (This shown later)\n",
    " - Consider for now actually outputting a shortest path. \n",
    " \n",
    "Informal Optimal Substructure Idea:\n",
    " - Difficult bc Graph's are not necessarily having an obvious ordering (except for path graphs)\n",
    " - However, can exploit sequential nature of paths. Subpath of a shortest path should itself be shortest. \n",
    "     - Not clear how to define \"smaller\" and \"larger\" subproblems\n",
    "     - Key: Artificially restrict the number of edges in a path. \n",
    "         - Subproblem size corresponds with number of permitted edges\n",
    "\n",
    "Optimal Substructure Formally:\n",
    " - Lemma: Let G = (V,E) be a directed graph with edge lengths Le and source vertex s. G may or may not have neg cycle\n",
    " - For every v in V, i {1, 2, 3,...} # of edges allowed in path from s to v\n",
    "     - Let optimal solution be P = shortest s to v path with at most i edges. Allowed to use cycles (even negative) bc i limits # of cycles used. \n",
    "         - Case 1: If P has <= i - 1 edges, it is a shortest s - v path with <= i - 1 edges\n",
    "             - True by obvious contradiction, P purported to be shortest within i edges\n",
    "         - Case 2: If P has i edges with last hop (w,v), w being some other edge in path from s to v, then P' is a shortest s - w path with <= (i - 1) edges. \n",
    "             - If Q (some other s to w path <= i - 1 edges), then Q + (w,v) is shorter than P' + (w,v) which contradicts the optomality of P. Thus, Case 2 true. \n",
    " - For destination v, there are (1 + in-deg(v)) candidates for optimal solution to subproblem. \n",
    "     - Answer depends on which destination v we are talkin about\n",
    "     - in-degree = # of edges of input graph that have v as their head.\n",
    "     - Case 1 is one candidate: given i and v, inherit optimal solution to destination v\n",
    "     - Case 2 comprises a choice for each possible (w,v) edge. w uses at most i - 1 edges + (w,v) tacked on. \n",
    "             \n"
   ]
  },
  {
   "cell_type": "markdown",
   "metadata": {},
   "source": [
    "## Basic Algorithm"
   ]
  },
  {
   "cell_type": "markdown",
   "metadata": {},
   "source": [
    "Let Li,v = min length of a s-v path with <= i edges (with cycles allowed)\n",
    "\n",
    "Recurrence:\n",
    " - defined as +inf if no s-v path exists within <= i edges\n",
    " - for every v in V, i(1,2,3....)\n",
    "     - Liv = min(\n",
    "         - Case 1: L(i-1)v\n",
    "         - Case 2: min (for all w,v in edges) (L(i-1,v) + Lwv)\n",
    " \n",
    " - Correctness: Brute-force search from the only i + i-n-degree candidates by optimal substructure lemma"
   ]
  },
  {
   "cell_type": "markdown",
   "metadata": {},
   "source": [
    "If no negative cycles:\n",
    " - suppose input graph G has no negative cycles\n",
    " - Know n - 1 edges are always enough to capture a shortest path between S and any v\n",
    "     - For s to v with at least N edges, visits at least N + 1 vertices. So, path must visit some vertex twice and in btwn two consecutive visits of a given vertex that's in a directed cycle\n",
    " - Shortest paths do not have cycles (because removing a cycle only decreases length since no negative cycles)\n",
    " - Thus, with path, must have <= n - 1 edges\n",
    " - So, only need to consider values from i = 0 to n - 1; more than n-1 means not useful\n",
    "     - Ofc, i = 0 will not evaluate unless s = v\n",
    " \n",
    "Subproblems: Compute Liv for all i in (0, 1, 2...n-1).\n",
    " - Linear per problem which is very good"
   ]
  },
  {
   "cell_type": "markdown",
   "metadata": {},
   "source": [
    "Bellman-Ford:\n",
    " - Let A = 2-D array (indexed by i and v)\n",
    " - Base Case: i = 0, A[0,s] = 0 (i.e. s = v); A[0,v] = +inf\n",
    " - for i = 1,2,3...n - 1:\n",
    "     - for v in V:\n",
    "         - A[i, v] = min(:\n",
    "             - A[i-1, v]\n",
    "             - min(A[i - 1, v] + Lwv) for all (w,v) edges\n",
    "             \n",
    "As discussed, if G has no negative cycle, then the algorithm is correct with answers A[n - 1, v]'s \n",
    "\n",
    "Runtime: O(mn)\n",
    " - Exactly O(n^2) subproblems, (n subproblems for n vertices, so n^2). But, work per loop is not constant\n",
    " - Spend more than constant time solving subproblem. Brute Force search through list of candidates that is superconstant. # of candidates for above, as said, is in-degree(v) aka each arc going to v. This is as large as m - 1. \n",
    " - So, in general, worse than O(n^2). So, O(nm)\n",
    "     - Could also be O(n^3) as a upper bound but not as sharp. Remember, m is between n-1 and nChoose2 (basically n^2). \n",
    " - Consider work done by a single iteration of outer for loop\n",
    "     - Sum of in-degrees(v) for all v in V; in total m\n",
    "     - n loops of outer for loop, so total O(nm). \n",
    " - EX: if add one edge, the in-degree of one vertex goes up by exactly one. "
   ]
  },
  {
   "cell_type": "markdown",
   "metadata": {},
   "source": [
    "Stopping Early:\n",
    " - Do not alway need n-1 iterations of outer for loop. \n",
    " - Suppose for some j < n - 1, A[j,v] = A[j-1, v] for all vertices of v\n",
    "     - In this case, next iterations are all useless. Can stop here. \n",
    " \n",
    "Note: More considerations for space optimization later. For example, the above rule applies for individual vertices of v too I think since each iteration only looks at (i-1) for comparison."
   ]
  },
  {
   "cell_type": "markdown",
   "metadata": {},
   "source": [
    "## Detecting Negative Cycles"
   ]
  },
  {
   "cell_type": "markdown",
   "metadata": {},
   "source": [
    "Extend the algorithm. Question: What if the inpput graph G has a negative cycle? Want an algorithm to report this. \n",
    "\n",
    "Claim: Envision running outer for loop for one more (i.e. with i = n)\n",
    " - G has no negative-cost cycle iff in the extended algorithm, A[n-1, v] = A[n,v] for all v in V. \n",
    " - As such, with an arbitrary input graph, can detect shortest paths OR negative cost cycle. This extra cycle makes it still O(n,m)\n",
    "     - Note Edge Case: iif no path from s to every v, this not true. Imagine s not connected to anything, rest of graph is negative cycle. \n",
    "     - Modify: G has no negative-cost cycle reachable from s\n",
    "     - Still detect by adding random vertex, extend an edge from that to every other vertex in G. Then run Bellman-Ford.\n",
    "     \n",
    "Proof:\n",
    " - Can begin with proving left or right side of above statement. \n",
    " - Already proved taht Bellman-Ford is correct.\n",
    " - So, assume run Bellman-Ford for an extra iteration and non of subproblems change i.e. A[n-1, v] = A[n, v] for all v in V. (Assume finite so paths exist)\n",
    " - Let d(v) denote the common value of A[n - 1, v] and A[n, v]\n",
    " - Recall:\n",
    "     - A[n,v] = min(A[n-1, v] or min A[n-1, w] + Lwv).\n",
    "     - A[n-1, w] = d(w). A[n,v] = d(v). Thus, d(w) + Lwv >= d(v) for all edges w,v in E.\n",
    "     - Equivalently: d(v) - d(w) <= Lwv\n",
    " - Consider arbitrary cycle C\n",
    "     - sum(Lwv) for all wv in cycle >= sum(d(w) - d(v)) = 0 for w,v in Cycle. \n",
    "         - Note, each d value of vertex on a cycle is going to appear once with +1 coefficient and -1 coefficient. \n",
    "         - That's why sum(d(w) - d(v)) = 0. "
   ]
  },
  {
   "cell_type": "markdown",
   "metadata": {},
   "source": [
    "## Space Optimization"
   ]
  },
  {
   "cell_type": "markdown",
   "metadata": {},
   "source": [
    "Current basic algorithm requires Theta(n^2) space. Space is dominated by 2D array, constant space per subproblem, n^2 subproblems. Remember, i (n-1) by n destinations. Can get away with linear sapce in an array baybee.\n",
    "\n",
    "A[i,v] = minA[i - 1, v] or the min of A[i-1, w] + Lwvs\n",
    " - Note that only need the A[i - 1, v]s to compute the A[i,v]. Thus, can throw out all other subproblems, only need most recent info (as predicted above). \n",
    " - Thus, only keeping track of O(n) to remember current and last round of subproblems. \n",
    " - Outputs a linear output of things, so this is really good. Space is constant per computed statistic. \n",
    " - Many other dynamic algorithms can do a similar algorithm probably (as we did with knapsack). \n",
    " \n",
    "Drawbacks?\n",
    " - Will not be able to run reconstruction because does not remember all of the subproblems by usual methods. Do differently"
   ]
  },
  {
   "cell_type": "markdown",
   "metadata": {},
   "source": [
    "### Computing Predecessor Pointers"
   ]
  },
  {
   "cell_type": "markdown",
   "metadata": {},
   "source": [
    "Idea: Comptue a second table B where B[i, v] = 2nd to last vertex (predecessor to v) on a shortest s -> v path with <= i edges (or Null if no path exists) for given i and v. Constant space per subproblem still bc i and v constant. \n",
    " - Keeps track of \"predecessor pointers\"\n",
    " - Are there not O(n^2) subproblems? Am confuse. I guess for specific v, is O(n). \n",
    " \n",
    "Reconstruction: Assume the input graph G has no negative cycles and correctly compute the B[i, v]s. Then, tracing back predecessor pointers (B[n-1,v]'s) from v to s yields a shortest s - v path. With changes in i, traverses path. \n",
    " - Comes from optimal substructure thing.\n",
    " \n",
    "Computing Predecessor Pointers: \n",
    " - B[0,v] = Null for all v in V. Base Case\n",
    " - Remember, A[i,v] either inherits from last round or A[i-1, w] + Lwv. B pretty much remembers w\n",
    "     - Case 1: Last hop inherited:\n",
    "         - B[i,v] = B[i-1, v]\n",
    "     - Case 2: New hop\n",
    "         - B[i,v] = w (vertex w that achieved the minimum)\n",
    " - Correctness: Computation of A[i,v] is brute-force search through 1 + in-deg(v) possible optimal solutions. B[i,v] is just caching the last hop of the winner. \n",
    "     - Can also be done with negative cost cycle detection. If B[n,v] improves from B[n-1, v], know negatie cost cycle exists. \n",
    "     - Check for cycle in predecessor pointers via DFS (below)\n",
    "     - To reconstruct negative-cost cycle, use DFS to check for a cycle of predecessor pointers after each round (must be a negative cost cycle)"
   ]
  }
 ],
 "metadata": {
  "kernelspec": {
   "display_name": "Python 3",
   "language": "python",
   "name": "python3"
  },
  "language_info": {
   "codemirror_mode": {
    "name": "ipython",
    "version": 3
   },
   "file_extension": ".py",
   "mimetype": "text/x-python",
   "name": "python",
   "nbconvert_exporter": "python",
   "pygments_lexer": "ipython3",
   "version": "3.7.6"
  }
 },
 "nbformat": 4,
 "nbformat_minor": 4
}
